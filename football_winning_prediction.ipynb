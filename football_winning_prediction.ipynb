{
 "cells": [
  {
   "cell_type": "code",
   "execution_count": null,
   "id": "4ef7ef0a",
   "metadata": {},
   "outputs": [],
   "source": []
  },
  {
   "cell_type": "code",
   "execution_count": null,
   "id": "ea8aea58",
   "metadata": {},
   "outputs": [],
   "source": []
  },
  {
   "cell_type": "code",
   "execution_count": null,
   "id": "bbff8ca7",
   "metadata": {},
   "outputs": [],
   "source": []
  },
  {
   "cell_type": "code",
   "execution_count": null,
   "id": "cc2942d4",
   "metadata": {},
   "outputs": [],
   "source": [
    "https://towardsdatascience.com/using-machine-learning-to-simulate-world-cup-matches-959e24d0731"
   ]
  },
  {
   "cell_type": "code",
   "execution_count": null,
   "id": "46da6e9f",
   "metadata": {},
   "outputs": [],
   "source": [
    "lr = LogisticRegression()\n",
    "lr.fit(x_train, y_train)\n",
    "rf = RandomForestClassifier()\n",
    "rf.fit(x_train, y_train)\n",
    "svc = SVC(kernel='linear')\n",
    "svc.fit(x_train, y_train)"
   ]
  },
  {
   "cell_type": "code",
   "execution_count": null,
   "id": "9e33c3fe",
   "metadata": {},
   "outputs": [],
   "source": [
    "def match(wc, team1, team2, model, random_scale=5):\n",
    "    \n",
    "    match = pd.DataFrame(columns=['att1','def1','mid1','ovr1','att2','def2','mid2','ovr2'], index=[0])\n",
    "    \n",
    "    att1 = wc[wc.name == team1]['att'].iloc[0]\n",
    "    def1 = wc[wc.name == team1]['def'].iloc[0]\n",
    "    mid1 = wc[wc.name == team1]['mid'].iloc[0]\n",
    "    ovr1 = wc[wc.name == team1]['ovr'].iloc[0]\n",
    "    att2 = wc[wc.name == team2]['att'].iloc[0]\n",
    "    def2 = wc[wc.name == team2]['def'].iloc[0]\n",
    "    mid2 = wc[wc.name == team2]['mid'].iloc[0]\n",
    "    ovr2 = wc[wc.name == team2]['ovr'].iloc[0]\n",
    "    \n",
    "    match['att1'] = np.random.normal(att1, scale=random_scale)\n",
    "    match['def1'] = np.random.normal(def1, scale=random_scale)\n",
    "    match['mid1'] = np.random.normal(mid1, scale=random_scale)\n",
    "    match['ovr1'] = np.random.normal(ovr1, scale=random_scale)\n",
    "    match['att2'] = np.random.normal(att2, scale=random_scale)\n",
    "    match['def2'] = np.random.normal(def2, scale=random_scale)\n",
    "    match['mid2'] = np.random.normal(mid2, scale=random_scale)\n",
    "    match['ovr2'] = np.random.normal(ovr2, scale=random_scale)\n",
    "    \n",
    "    match['att'] = match['att1'] - match['att2']\n",
    "    match['def'] = match['def1'] - match['def2']\n",
    "    match['mid'] = match['mid1'] - match['mid2']\n",
    "    match['ovr'] = match['ovr1'] - match['ovr2']\n",
    "    \n",
    "    match = match[['att', 'def', 'mid', 'ovr']]\n",
    "    \n",
    "    match_array = match.values\n",
    "    \n",
    "    prediction = model.predict(match_array)\n",
    "    \n",
    "    winner = None\n",
    "    \n",
    "    if prediction == 1:\n",
    "        winner = team1\n",
    "    elif prediction == -1:\n",
    "        winner = team2\n",
    "    \n",
    "    return winner"
   ]
  },
  {
   "cell_type": "code",
   "execution_count": null,
   "id": "ff07267a",
   "metadata": {},
   "outputs": [],
   "source": [
    "def simulate_matches(team1, team2, n_matches=10000):\n",
    "    \n",
    "    match_results = []\n",
    "    for i in range(n_matches):\n",
    "        match_results.append(match(wc, team1, team2, svc, random_scale=5))\n",
    "        \n",
    "    team1_proba = match_results.count(team1)/len(match_results)*100\n",
    "    team2_proba = match_results.count(team2)/len(match_results)*100\n",
    "    \n",
    "    print(team1, str(round(team1_proba, 2)) + '%')\n",
    "    print(team2, str(round(team2_proba,2)) + '%')\n",
    "    print('-------------------------')\n",
    "    print()\n",
    "    \n",
    "    if team1_proba > team2_proba:\n",
    "        overall_winner = team1\n",
    "    else:\n",
    "        overall_winner = team2\n",
    "    \n",
    "    return {'team1': team1,\n",
    "            'team2': team2,\n",
    "            'team1_proba': team1_proba, \n",
    "            'team2_proba': team2_proba, \n",
    "            'overall_winner': overall_winner,\n",
    "            'match_results': match_results}"
   ]
  },
  {
   "cell_type": "code",
   "execution_count": null,
   "id": "d8799928",
   "metadata": {},
   "outputs": [],
   "source": [
    "simulation_test = simulate_matches('croatia', 'denmark', n_matches=10000)"
   ]
  },
  {
   "cell_type": "code",
   "execution_count": null,
   "id": "3f7c8542",
   "metadata": {},
   "outputs": [],
   "source": [
    "p_list = []\n",
    "for i in range(len(simulation_test['match_results'])):\n",
    "    denmark = simulation_test['match_results'][:i].count('denmark') / (i+1) * 100\n",
    "    croatia = simulation_test['match_results'][:i].count('croatia') / (i+1) * 100\n",
    "    p_list.append(denmark - croatia)"
   ]
  },
  {
   "cell_type": "code",
   "execution_count": null,
   "id": "0749e073",
   "metadata": {},
   "outputs": [],
   "source": [
    "spain_proba = 0.817 * 0.862 * 0.718 * 0.593 * 100 * (0.7 ** 4)\n",
    "print('Chance of Spain winning:', str(round(spain_proba,2)) + '%')"
   ]
  }
 ],
 "metadata": {
  "kernelspec": {
   "display_name": "Python 3",
   "language": "python",
   "name": "python3"
  },
  "language_info": {
   "codemirror_mode": {
    "name": "ipython",
    "version": 3
   },
   "file_extension": ".py",
   "mimetype": "text/x-python",
   "name": "python",
   "nbconvert_exporter": "python",
   "pygments_lexer": "ipython3",
   "version": "3.8.2"
  }
 },
 "nbformat": 4,
 "nbformat_minor": 5
}
