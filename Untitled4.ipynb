{
 "cells": [
  {
   "cell_type": "code",
   "execution_count": 7,
   "id": "c729d939",
   "metadata": {},
   "outputs": [],
   "source": [
    "import os \n",
    "import pandas as pd\n",
    "import numpy as np\n",
    "from PIL import Image\n",
    "import matplotlib.pyplot as plt"
   ]
  },
  {
   "cell_type": "code",
   "execution_count": 4,
   "id": "1ec61d93",
   "metadata": {},
   "outputs": [],
   "source": [
    "from sklearn.metrics import f1_score"
   ]
  },
  {
   "cell_type": "code",
   "execution_count": 6,
   "id": "f6ea8d0d",
   "metadata": {},
   "outputs": [],
   "source": [
    "import torch\n",
    "from torch.utils.data import Dataset, random_split, DataLoader\n",
    "import torch.nn as nn\n",
    "import torch.nn.functional as F\n",
    "from torchvision.utils import make_grid"
   ]
  },
  {
   "cell_type": "code",
   "execution_count": 2,
   "id": "cb7eca16",
   "metadata": {},
   "outputs": [],
   "source": [
    "device = torch.device(\"cuda:0\" if torch.cuda.is_available() else \"cpu\")"
   ]
  },
  {
   "cell_type": "code",
   "execution_count": null,
   "id": "459e033e",
   "metadata": {},
   "outputs": [],
   "source": [
    "DATA_DIR = 'Human protein atlas'\n",
    "\n",
    "TRAIN_DIR = DATA_DIR + '/train'\n",
    "TEST_DIR = DATA_DIR + '/test'\n",
    "\n",
    "TRAIN_CSV = DATA_DIR + '/train.csv'\n",
    "TEST_CSV = DATA_DIR + '/submission.csv'"
   ]
  },
  {
   "cell_type": "markdown",
   "id": "f69c6abd",
   "metadata": {},
   "source": [
    "!head \"TRAIN_CSV\"\n",
    "\n",
    "|Image   |Label|\n",
    "|--------|-----|\n",
    "|19567,  |9    |\n",
    "|29956,  |6 4  |\n",
    "|17186,  |1 4  |\n",
    "|701,     |3, 4 |\n",
    "|1080,    |4    |"
   ]
  },
  {
   "cell_type": "markdown",
   "id": "193b28ca",
   "metadata": {},
   "source": [
    "!head \"TEST_CSV\"\n",
    "\n",
    "|Image   |Label|\n",
    "|--------|-----|\n",
    "|19567,  |0    |\n",
    "|29956,  |0 |\n",
    "|17186,  |0   |\n",
    "|701,     |0 |\n",
    "|1080,    |0    |"
   ]
  },
  {
   "cell_type": "markdown",
   "id": "7e7be2d3",
   "metadata": {},
   "source": [
    "!ls\"{TRAIN_DIR}\"|head\n",
    "\n",
    "0.png\n",
    "\n",
    "1000.png\n",
    "\n",
    "1001.png\n",
    "\n",
    "1002.png\n",
    "\n",
    "\n",
    "train_df = pd.read_csv(TRAIN_CSV)\n",
    "\n",
    "train_df.head()"
   ]
  },
  {
   "cell_type": "code",
   "execution_count": null,
   "id": "0aee8d85",
   "metadata": {},
   "outputs": [],
   "source": [
    "labels = {\n",
    "    0: \"Mitochondria\",\n",
    "    1: \"Nuclear bodies\",\n",
    "    2: \"Golgi apparatus\",\n",
    "    3: \"Nucleoli\",\n",
    "    4: \"Nucleoli fibrillar center\",\n",
    "    5: \"Nucleoplasm\",\n",
    "    6: \"Cytosol\",\n",
    "    7: \"Plasma membrane\",\n",
    "    8: \"Centrosome\",\n",
    "    9: \"Nuclear speckles\"\n",
    "}"
   ]
  },
  {
   "cell_type": "code",
   "execution_count": null,
   "id": "ff234bf8",
   "metadata": {},
   "outputs": [],
   "source": [
    "def encode_label(label):\n",
    "    target = torch.zeros(10)\n",
    "    for l in str(labels).split(\" \"):\n",
    "        target[int(l)]=1.\n",
    "    return target"
   ]
  },
  {
   "cell_type": "code",
   "execution_count": null,
   "id": "d3245b26",
   "metadata": {},
   "outputs": [],
   "source": [
    "def decode_target(target, text_labels=False, threshold=0.5):\n",
    "    result = []\n",
    "    for i,x in enumerate(target):\n",
    "        if (x>=threshold):\n",
    "            if text_labels:\n",
    "                result.append(labels[i])\n",
    "            else:\n",
    "                reuslt.append(str(i))\n",
    "    return \" \".join(result)"
   ]
  },
  {
   "cell_type": "code",
   "execution_count": null,
   "id": "55bf152e",
   "metadata": {},
   "outputs": [],
   "source": [
    "class HumanProteinDataset(Dataset):\n",
    "    def __init__(self, csv_file, root_dir, transform=None):\n",
    "        self.df = pd.read_csv(csv_file)\n",
    "        self.transform = transform\n",
    "        self.root_dir = root_dir\n",
    "    \n",
    "    def __len__(self):\n",
    "        return len(self.df)\n",
    "    \n",
    "    def __getitem__(self, idx):\n",
    "        row = self.df.loc[idx]\n",
    "        img_id, img_label = row[\"Image\"], row[\"Label\"]\n",
    "        img_fname = self.root_dir + \"/\" + str(img_id) +\".png\"\n",
    "        img = Image.open(img_fname)\n",
    "        if self.transform:\n",
    "            img = self.transform(img)\n",
    "        return img, encode_label(img_label)"
   ]
  },
  {
   "cell_type": "code",
   "execution_count": null,
   "id": "c58f7e60",
   "metadata": {},
   "outputs": [],
   "source": [
    "For instance, add transforms.Resize(128) before transforms.ToTensor() to resize images"
   ]
  },
  {
   "cell_type": "code",
   "execution_count": null,
   "id": "f6b34857",
   "metadata": {},
   "outputs": [],
   "source": [
    "transform = transforms.Compose([transfroms.ToTensor()])\n",
    "dataset = HumanProteinDataset(TRAIN_CSV, TRAIN_DIR, transform=transform)"
   ]
  },
  {
   "cell_type": "code",
   "execution_count": null,
   "id": "aea7b3d0",
   "metadata": {},
   "outputs": [],
   "source": [
    "# how many samples the dataset contains \n",
    "len(dataset)\n",
    "# 19236"
   ]
  },
  {
   "cell_type": "code",
   "execution_count": null,
   "id": "231db08a",
   "metadata": {},
   "outputs": [],
   "source": [
    "# include invert because original image quite dark\n",
    "def show_sample(img, target, invert=True):\n",
    "    if invert:\n",
    "        plt.imshow(1 - img.permute((1,2,0)))\n",
    "    else:\n",
    "        plt.imshow(img.permute(1,2,0))\n",
    "    print(\"Labels:\", decode_target(target, text_labels=True))"
   ]
  },
  {
   "cell_type": "code",
   "execution_count": null,
   "id": "3560f474",
   "metadata": {},
   "outputs": [],
   "source": [
    "show_sample(*dataset[0], invert=False)"
   ]
  },
  {
   "cell_type": "code",
   "execution_count": null,
   "id": "5389a281",
   "metadata": {},
   "outputs": [],
   "source": [
    "show_sample(*dataset[0])"
   ]
  },
  {
   "cell_type": "markdown",
   "id": "74c2bd12",
   "metadata": {},
   "source": [
    "Labels: Nuclear speckles(9) imgshow"
   ]
  },
  {
   "cell_type": "markdown",
   "id": "e3c9e8a8",
   "metadata": {},
   "source": [
    "### Training and Validation sets"
   ]
  },
  {
   "cell_type": "code",
   "execution_count": null,
   "id": "393b8af8",
   "metadata": {},
   "outputs": [],
   "source": [
    "val_pct = 0.1\n",
    "val_size = int(val_pct*len(dataset))\n",
    "train_size = len(dataset) - val_size"
   ]
  },
  {
   "cell_type": "code",
   "execution_count": null,
   "id": "ba015dfd",
   "metadata": {},
   "outputs": [],
   "source": [
    "train_ds, val_ds = random_split(dataset, [train_size, val_size])\n",
    "len(train_ds), len(val_ds)"
   ]
  },
  {
   "cell_type": "markdown",
   "id": "2e6a21c7",
   "metadata": {},
   "source": [
    "### Data Loaders"
   ]
  },
  {
   "cell_type": "code",
   "execution_count": null,
   "id": "c729037f",
   "metadata": {},
   "outputs": [],
   "source": [
    "train_dl = DataLoader(train_ds, batch_size=64, shuffle=True)\n",
    "val_dl = DataLoader(val_ds, batch_size=64, shuffle=False)\n",
    "\n",
    "def show_batch(dl, invert=True):\n",
    "    fig, ax = plt.subplots(figsize=(16,8))\n",
    "    ax.set_xticks([])\n",
    "    ax.set_yticks([])\n",
    "    data = 1 - images if invert else images\n",
    "    ax.imshow(make_grid(data, nrow=16).permute(1,2,0))\n",
    "    break"
   ]
  },
  {
   "cell_type": "code",
   "execution_count": null,
   "id": "0bf4ad33",
   "metadata": {},
   "outputs": [],
   "source": [
    "show_batch(train_dl)"
   ]
  },
  {
   "cell_type": "code",
   "execution_count": null,
   "id": "6e4a7cfa",
   "metadata": {},
   "outputs": [],
   "source": []
  },
  {
   "cell_type": "code",
   "execution_count": null,
   "id": "3b3970b4",
   "metadata": {},
   "outputs": [],
   "source": []
  },
  {
   "cell_type": "markdown",
   "id": "4ad23d33",
   "metadata": {},
   "source": [
    "## Model"
   ]
  },
  {
   "cell_type": "code",
   "execution_count": null,
   "id": "5197440c",
   "metadata": {},
   "outputs": [],
   "source": []
  },
  {
   "cell_type": "code",
   "execution_count": null,
   "id": "9be45796",
   "metadata": {},
   "outputs": [],
   "source": []
  },
  {
   "cell_type": "code",
   "execution_count": null,
   "id": "716e8924",
   "metadata": {},
   "outputs": [],
   "source": []
  },
  {
   "cell_type": "markdown",
   "id": "07813843",
   "metadata": {},
   "source": [
    "### Training the model"
   ]
  },
  {
   "cell_type": "code",
   "execution_count": null,
   "id": "a18c0b7d",
   "metadata": {},
   "outputs": [],
   "source": [
    "def evaluate(model, val_loader):\n",
    "    model.eval()\n",
    "    outputs = []\n",
    "    return model.validation_epoch_end(outputs)"
   ]
  },
  {
   "cell_type": "code",
   "execution_count": null,
   "id": "608356ff",
   "metadata": {},
   "outputs": [],
   "source": [
    "def fit(epochs, lr, model, train_loader, val_loader, opt_func = torch.optim.SGD):\n",
    "    history = []\n",
    "    optimizer = opt_func\n",
    "    for epoch in range(epochs):\n",
    "        model.train()\n",
    "        train_losses = []\n",
    "        for batch in tqdm(train_loader):\n",
    "            loss = model.training_step()\n",
    "    return history"
   ]
  },
  {
   "cell_type": "code",
   "execution_count": null,
   "id": "e8440d71",
   "metadata": {},
   "outputs": [],
   "source": []
  },
  {
   "cell_type": "markdown",
   "id": "e34c3ba2",
   "metadata": {},
   "source": [
    "### Making predictions on individaul images"
   ]
  },
  {
   "cell_type": "code",
   "execution_count": null,
   "id": "6a3f4245",
   "metadata": {},
   "outputs": [],
   "source": [
    "# lets create a helper function to make a prediction on a single image\n",
    "def predict_single(image):\n",
    "    xb = image.unsqueeze(0).to(device)\n",
    "    preds = model(xb)\n",
    "    predictions = preds[0]\n",
    "    print(\"prediction\", predictions)\n",
    "    show_sample(image, predictions)\n",
    "    \n",
    "    "
   ]
  },
  {
   "cell_type": "code",
   "execution_count": null,
   "id": "879bf106",
   "metadata": {},
   "outputs": [],
   "source": [
    "test_dataset = HumanProteinDataset(TEST_CSV, TEST_DIR, transform=tranform)"
   ]
  },
  {
   "cell_type": "code",
   "execution_count": null,
   "id": "7e2e094c",
   "metadata": {},
   "outputs": [],
   "source": [
    "img, target = test_dataset[0]\n",
    "img.shape"
   ]
  },
  {
   "cell_type": "code",
   "execution_count": null,
   "id": "306a877f",
   "metadata": {},
   "outputs": [],
   "source": [
    "predict_single(test_dataset[100][0])"
   ]
  },
  {
   "cell_type": "code",
   "execution_count": null,
   "id": "382687ec",
   "metadata": {},
   "outputs": [],
   "source": [
    "predict_single(test_dataset[74][0])"
   ]
  },
  {
   "cell_type": "markdown",
   "id": "3b4ba939",
   "metadata": {},
   "source": [
    "### Generating test predictions\n",
    "make predictions for the entire test dataset"
   ]
  },
  {
   "cell_type": "code",
   "execution_count": null,
   "id": "ff19086b",
   "metadata": {},
   "outputs": [],
   "source": []
  },
  {
   "cell_type": "code",
   "execution_count": null,
   "id": "ff5a395f",
   "metadata": {},
   "outputs": [],
   "source": [
    "test_dl = DataLoader(test_dataset, batch_size, num_workers = 2).to(device)"
   ]
  },
  {
   "cell_type": "code",
   "execution_count": null,
   "id": "a28fe26a",
   "metadata": {},
   "outputs": [],
   "source": [
    "@torch.no_grad()\n",
    "def predict_dl(dl, model):\n",
    "    torch.cuda.empty_cache()\n",
    "    batch_probs = []\n",
    "    for xb, _ in tqdm(dl):\n",
    "        probs = model(xb)\n",
    "        batch_probs.append(probs.cpu().detach())\n",
    "    batch_probs = torch.cat(batch_probs)\n",
    "    return [decode_target(x) for x in batch_probs]\n"
   ]
  },
  {
   "cell_type": "code",
   "execution_count": null,
   "id": "a911f8fb",
   "metadata": {},
   "outputs": [],
   "source": [
    "test_preds = predict_dl(test_dl, model)\n",
    "\n",
    "\n",
    "submission_df = pd.read_csv(Test_csv)\n",
    "submission_df.Label = test_preds\n",
    "submisson_df.head()\n",
    "\n",
    "sub_filename = \"resnet_submission.csv\"\n",
    "\n",
    "# make submission file\n",
    "submission_df.to_csv(sub_filename, index=false)"
   ]
  }
 ],
 "metadata": {
  "kernelspec": {
   "display_name": "Python 3",
   "language": "python",
   "name": "python3"
  },
  "language_info": {
   "codemirror_mode": {
    "name": "ipython",
    "version": 3
   },
   "file_extension": ".py",
   "mimetype": "text/x-python",
   "name": "python",
   "nbconvert_exporter": "python",
   "pygments_lexer": "ipython3",
   "version": "3.8.2"
  }
 },
 "nbformat": 4,
 "nbformat_minor": 5
}
