{
 "cells": [
  {
   "cell_type": "code",
   "execution_count": 25,
   "id": "ae55d430",
   "metadata": {},
   "outputs": [],
   "source": [
    "data_dict = {1:[2,3], 2:[9,11,15,19,22], 3:[4,29,12,39]}"
   ]
  },
  {
   "cell_type": "code",
   "execution_count": 26,
   "id": "7d6ca8e4",
   "metadata": {},
   "outputs": [],
   "source": [
    "list_of_nodes = []"
   ]
  },
  {
   "cell_type": "code",
   "execution_count": 35,
   "id": "4bf61497",
   "metadata": {},
   "outputs": [],
   "source": [
    "for source_node in list(data_dict.keys()):\n",
    "    if source_node not in list_of_nodes:\n",
    "        list_of_nodes.append(source_node)\n",
    "    \n",
    "    for y in data_dict[source_node]:\n",
    "        if source_node not in list_of_nodes:\n",
    "            list_of_nodes.append(y)\n",
    "        if y not in data_dict.keys():\n",
    "            data_dict[y] = [source_node]\n",
    "        else:\n",
    "            if source_node not in data_dict[y]:\n",
    "                data_dict[y].append(source_node)\n",
    "            else:\n",
    "                continue\n",
    "            \n",
    "            "
   ]
  },
  {
   "cell_type": "code",
   "execution_count": 36,
   "id": "ad97f1bb",
   "metadata": {},
   "outputs": [
    {
     "data": {
      "text/plain": [
       "[1, 2, 3, 9, 11, 15, 19, 22, 4, 29, 12, 39]"
      ]
     },
     "execution_count": 36,
     "metadata": {},
     "output_type": "execute_result"
    }
   ],
   "source": [
    "list_of_nodes "
   ]
  },
  {
   "cell_type": "code",
   "execution_count": 37,
   "id": "b4d4cfc6",
   "metadata": {},
   "outputs": [],
   "source": [
    "import networkx as nx\n",
    "import matplotlib.pyplot as plt"
   ]
  },
  {
   "cell_type": "code",
   "execution_count": 38,
   "id": "92f4322b",
   "metadata": {},
   "outputs": [],
   "source": [
    "G = nx.Graph()\n",
    "G.add_nodes_from(list_of_nodes)"
   ]
  },
  {
   "cell_type": "code",
   "execution_count": 42,
   "id": "6cd8ecf3",
   "metadata": {},
   "outputs": [
    {
     "data": {
      "image/png": "[encoded data removed]",
      "text/plain": [
       "<Figure size 432x288 with 1 Axes>"
      ]
     },
     "metadata": {},
     "output_type": "display_data"
    }
   ],
   "source": [
    "pos=nx.spring_layout(G)\n",
    "nx.draw(G, pos=pos, with_labels=True, node_size=1000)"
   ]
  },
  {
   "cell_type": "code",
   "execution_count": null,
   "id": "61b58410",
   "metadata": {},
   "outputs": [],
   "source": []
  }
 ],
 "metadata": {
  "kernelspec": {
   "display_name": "Python 3",
   "language": "python",
   "name": "python3"
  },
  "language_info": {
   "codemirror_mode": {
    "name": "ipython",
    "version": 3
   },
   "file_extension": ".py",
   "mimetype": "text/x-python",
   "name": "python",
   "nbconvert_exporter": "python",
   "pygments_lexer": "ipython3",
   "version": "3.8.2"
  }
 },
 "nbformat": 4,
 "nbformat_minor": 5
}
