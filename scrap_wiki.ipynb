{
 "cells": [
  {
   "cell_type": "code",
   "execution_count": null,
   "id": "4714454d",
   "metadata": {},
   "outputs": [],
   "source": []
  },
  {
   "cell_type": "code",
   "execution_count": null,
   "id": "e4fa8034",
   "metadata": {},
   "outputs": [],
   "source": []
  },
  {
   "cell_type": "markdown",
   "id": "76698e13",
   "metadata": {},
   "source": [
    "# Import Package"
   ]
  },
  {
   "cell_type": "code",
   "execution_count": 1,
   "id": "cd45c824",
   "metadata": {},
   "outputs": [],
   "source": [
    "import requests\n",
    "from bs4 import BeautifulSoup"
   ]
  },
  {
   "cell_type": "markdown",
   "id": "38603806",
   "metadata": {},
   "source": [
    "# Import url"
   ]
  },
  {
   "cell_type": "code",
   "execution_count": 2,
   "id": "2d4e1755",
   "metadata": {},
   "outputs": [],
   "source": [
    "url = \"https://en.wikipedia.org/wiki/List_of_countries_and_dependencies_by_population\""
   ]
  },
  {
   "cell_type": "code",
   "execution_count": 5,
   "id": "7d86c5b2",
   "metadata": {},
   "outputs": [],
   "source": [
    "response= requests.get(url)"
   ]
  },
  {
   "cell_type": "markdown",
   "id": "6b67ebef",
   "metadata": {},
   "source": [
    "# beautifulSoup simple use casse"
   ]
  },
  {
   "cell_type": "code",
   "execution_count": 22,
   "id": "63f0f930",
   "metadata": {},
   "outputs": [
    {
     "name": "stdout",
     "output_type": "stream",
     "text": [
      "<title>List of countries and dependencies by population - Wikipedia</title>\n",
      "title\n",
      "List of countries and dependencies by population - Wikipedia\n",
      "head\n",
      "<p class=\"mw-empty-elt\">\n",
      "</p>\n",
      "['mw-empty-elt']\n"
     ]
    }
   ],
   "source": [
    "# # soup = response.text\n",
    "# print(response.text)\n",
    "\n",
    "soup = BeautifulSoup(response.content, \"html.parser\")\n",
    "print(soup.title)\n",
    "print(soup.title.name)\n",
    "print(soup.title.string)\n",
    "print(soup.title.parent.name)\n",
    "print(soup.p)\n",
    "print(soup.p['class'])"
   ]
  },
  {
   "cell_type": "markdown",
   "id": "431cd0b4",
   "metadata": {},
   "source": [
    "# list all table with attribute dict key"
   ]
  },
  {
   "cell_type": "code",
   "execution_count": 24,
   "id": "c4b552f4",
   "metadata": {},
   "outputs": [
    {
     "name": "stdout",
     "output_type": "stream",
     "text": [
      "['wikitable', 'sortable']\n"
     ]
    }
   ],
   "source": [
    "print(soup.table[\"class\"])"
   ]
  },
  {
   "cell_type": "markdown",
   "id": "76abe3be",
   "metadata": {},
   "source": [
    "# Find table with class attribute"
   ]
  },
  {
   "cell_type": "code",
   "execution_count": 25,
   "id": "1c5d96fd",
   "metadata": {},
   "outputs": [],
   "source": [
    "right_table =soup.find(\"table\", {\"class\":\"wikitable sortable\"})"
   ]
  },
  {
   "cell_type": "code",
   "execution_count": 28,
   "id": "7dd9fe09",
   "metadata": {},
   "outputs": [
    {
     "name": "stdout",
     "output_type": "stream",
     "text": [
      "{'class': ['wikitable', 'sortable']}\n"
     ]
    }
   ],
   "source": [
    "print(soup.table.attrs)"
   ]
  },
  {
   "cell_type": "code",
   "execution_count": 32,
   "id": "f8e06b5d",
   "metadata": {},
   "outputs": [
    {
     "data": {
      "text/plain": [
       "6"
      ]
     },
     "execution_count": 32,
     "metadata": {},
     "output_type": "execute_result"
    }
   ],
   "source": [
    "for row in right_table.findAll(\"tr\"):\n",
    "    cells = row.findAll('td')\n",
    "    \n",
    "len(cells)"
   ]
  },
  {
   "cell_type": "code",
   "execution_count": null,
   "id": "0ba9e7ee",
   "metadata": {},
   "outputs": [],
   "source": [
    "# "
   ]
  },
  {
   "cell_type": "code",
   "execution_count": 31,
   "id": "db4f562b",
   "metadata": {},
   "outputs": [
    {
     "data": {
      "text/plain": [
       "244"
      ]
     },
     "execution_count": 31,
     "metadata": {},
     "output_type": "execute_result"
    }
   ],
   "source": [
    "rows = right_table.findAll(\"tr\")\n",
    "len(rows)"
   ]
  },
  {
   "cell_type": "markdown",
   "id": "01f5c33b",
   "metadata": {},
   "source": [
    "# get table header "
   ]
  },
  {
   "cell_type": "code",
   "execution_count": 34,
   "id": "f2cfc687",
   "metadata": {},
   "outputs": [
    {
     "name": "stdout",
     "output_type": "stream",
     "text": [
      "['Country / Dependency', 'Population', 'Date', 'Source (official or from the\\xa0United Nations)', 'Notes']\n"
     ]
    }
   ],
   "source": [
    "header = [th.text.rstrip() for th in rows[0].find_all('th')][1:]\n",
    "print(header)"
   ]
  },
  {
   "cell_type": "code",
   "execution_count": 35,
   "id": "bdb34759",
   "metadata": {},
   "outputs": [
    {
     "data": {
      "text/plain": [
       "5"
      ]
     },
     "execution_count": 35,
     "metadata": {},
     "output_type": "execute_result"
    }
   ],
   "source": [
    "len(header)"
   ]
  },
  {
   "cell_type": "markdown",
   "id": "67a993b8",
   "metadata": {},
   "source": [
    "# crawl data from each cell from tablej"
   ]
  },
  {
   "cell_type": "code",
   "execution_count": 36,
   "id": "d9403dca",
   "metadata": {},
   "outputs": [],
   "source": [
    "lst_data = []\n",
    "for row in rows[2:]:\n",
    "    data=[d.text.rstrip() for d in row.find_all(\"td\")]\n",
    "    lst_data.append(data)"
   ]
  },
  {
   "cell_type": "code",
   "execution_count": 37,
   "id": "9385b7c1",
   "metadata": {},
   "outputs": [
    {
     "data": {
      "text/plain": [
       "242"
      ]
     },
     "execution_count": 37,
     "metadata": {},
     "output_type": "execute_result"
    }
   ],
   "source": [
    "len(lst_data)"
   ]
  },
  {
   "cell_type": "markdown",
   "id": "7e1aabea",
   "metadata": {},
   "source": [
    "# import panda and write data to dataframe"
   ]
  },
  {
   "cell_type": "code",
   "execution_count": 38,
   "id": "9783423d",
   "metadata": {},
   "outputs": [],
   "source": [
    "import pandas as pd"
   ]
  },
  {
   "cell_type": "code",
   "execution_count": 49,
   "id": "2ae71398",
   "metadata": {},
   "outputs": [],
   "source": [
    "df = pd.DataFrame(lst_data)\n"
   ]
  },
  {
   "cell_type": "code",
   "execution_count": 50,
   "id": "8cf85889",
   "metadata": {},
   "outputs": [
    {
     "data": {
      "text/html": [
       "<div>\n",
       "<style scoped>\n",
       "    .dataframe tbody tr th:only-of-type {\n",
       "        vertical-align: middle;\n",
       "    }\n",
       "\n",
       "    .dataframe tbody tr th {\n",
       "        vertical-align: top;\n",
       "    }\n",
       "\n",
       "    .dataframe thead th {\n",
       "        text-align: right;\n",
       "    }\n",
       "</style>\n",
       "<table border=\"1\" class=\"dataframe\">\n",
       "  <thead>\n",
       "    <tr style=\"text-align: right;\">\n",
       "      <th></th>\n",
       "      <th>0</th>\n",
       "      <th>1</th>\n",
       "      <th>2</th>\n",
       "      <th>3</th>\n",
       "      <th>4</th>\n",
       "      <th>5</th>\n",
       "      <th>6</th>\n",
       "    </tr>\n",
       "  </thead>\n",
       "  <tbody>\n",
       "    <tr>\n",
       "      <th>0</th>\n",
       "      <td>–</td>\n",
       "      <td>World</td>\n",
       "      <td>7,993,926,000</td>\n",
       "      <td>100%</td>\n",
       "      <td>24 Nov 2022</td>\n",
       "      <td>UN projection[3]</td>\n",
       "      <td></td>\n",
       "    </tr>\n",
       "    <tr>\n",
       "      <th>1</th>\n",
       "      <td>China</td>\n",
       "      <td>1,412,600,000</td>\n",
       "      <td>17.7%</td>\n",
       "      <td>31 Dec 2021</td>\n",
       "      <td>Official estimate[4]</td>\n",
       "      <td>The population figure refers to mainland China...</td>\n",
       "      <td>None</td>\n",
       "    </tr>\n",
       "    <tr>\n",
       "      <th>2</th>\n",
       "      <td>India</td>\n",
       "      <td>1,375,586,000</td>\n",
       "      <td>17.2%</td>\n",
       "      <td>1 Mar 2022</td>\n",
       "      <td>Official projection[5]</td>\n",
       "      <td>The figure includes the population of the Indi...</td>\n",
       "      <td>None</td>\n",
       "    </tr>\n",
       "    <tr>\n",
       "      <th>3</th>\n",
       "      <td>United States</td>\n",
       "      <td>333,310,455</td>\n",
       "      <td>4.17%</td>\n",
       "      <td>23 Nov 2022</td>\n",
       "      <td>Population clock[6]</td>\n",
       "      <td>The figure includes the 50 states and the Dist...</td>\n",
       "      <td>None</td>\n",
       "    </tr>\n",
       "    <tr>\n",
       "      <th>4</th>\n",
       "      <td>Indonesia</td>\n",
       "      <td>275,773,800</td>\n",
       "      <td>3.45%</td>\n",
       "      <td>1 Jul 2022</td>\n",
       "      <td>Official estimate[7]</td>\n",
       "      <td></td>\n",
       "      <td>None</td>\n",
       "    </tr>\n",
       "    <tr>\n",
       "      <th>...</th>\n",
       "      <td>...</td>\n",
       "      <td>...</td>\n",
       "      <td>...</td>\n",
       "      <td>...</td>\n",
       "      <td>...</td>\n",
       "      <td>...</td>\n",
       "      <td>...</td>\n",
       "    </tr>\n",
       "    <tr>\n",
       "      <th>237</th>\n",
       "      <td>Tokelau (New Zealand)</td>\n",
       "      <td>1,647</td>\n",
       "      <td>0%</td>\n",
       "      <td>1 Jan 2019</td>\n",
       "      <td>2019 Census [208]</td>\n",
       "      <td></td>\n",
       "      <td>None</td>\n",
       "    </tr>\n",
       "    <tr>\n",
       "      <th>238</th>\n",
       "      <td>Niue (New Zealand)</td>\n",
       "      <td>1,549</td>\n",
       "      <td>0%</td>\n",
       "      <td>1 Jul 2021</td>\n",
       "      <td>National annual projection[95]</td>\n",
       "      <td></td>\n",
       "      <td>None</td>\n",
       "    </tr>\n",
       "    <tr>\n",
       "      <th>239</th>\n",
       "      <td>Vatican City</td>\n",
       "      <td>825</td>\n",
       "      <td>0%</td>\n",
       "      <td>1 Feb 2019</td>\n",
       "      <td>Monthly national estimate[209]</td>\n",
       "      <td>The total population of 825 consisted of 453 r...</td>\n",
       "      <td>None</td>\n",
       "    </tr>\n",
       "    <tr>\n",
       "      <th>240</th>\n",
       "      <td>Cocos (Keeling) Islands (Australia)</td>\n",
       "      <td>593</td>\n",
       "      <td>0%</td>\n",
       "      <td>30 Jun 2020</td>\n",
       "      <td>2021 Census[210]</td>\n",
       "      <td></td>\n",
       "      <td>None</td>\n",
       "    </tr>\n",
       "    <tr>\n",
       "      <th>241</th>\n",
       "      <td>Pitcairn Islands (United Kingdom)</td>\n",
       "      <td>47</td>\n",
       "      <td>0%</td>\n",
       "      <td>1 Jul 2021</td>\n",
       "      <td>Official estimate[211]</td>\n",
       "      <td></td>\n",
       "      <td>None</td>\n",
       "    </tr>\n",
       "  </tbody>\n",
       "</table>\n",
       "<p>242 rows × 7 columns</p>\n",
       "</div>"
      ],
      "text/plain": [
       "                                        0              1               2  \\\n",
       "0                                       –          World   7,993,926,000   \n",
       "1                                   China  1,412,600,000           17.7%   \n",
       "2                                   India  1,375,586,000           17.2%   \n",
       "3                           United States    333,310,455           4.17%   \n",
       "4                               Indonesia    275,773,800           3.45%   \n",
       "..                                    ...            ...             ...   \n",
       "237                 Tokelau (New Zealand)          1,647              0%   \n",
       "238                    Niue (New Zealand)          1,549              0%   \n",
       "239                          Vatican City            825              0%   \n",
       "240   Cocos (Keeling) Islands (Australia)            593              0%   \n",
       "241     Pitcairn Islands (United Kingdom)             47              0%   \n",
       "\n",
       "               3                               4  \\\n",
       "0           100%                     24 Nov 2022   \n",
       "1    31 Dec 2021            Official estimate[4]   \n",
       "2     1 Mar 2022          Official projection[5]   \n",
       "3    23 Nov 2022             Population clock[6]   \n",
       "4     1 Jul 2022            Official estimate[7]   \n",
       "..           ...                             ...   \n",
       "237   1 Jan 2019               2019 Census [208]   \n",
       "238   1 Jul 2021  National annual projection[95]   \n",
       "239   1 Feb 2019  Monthly national estimate[209]   \n",
       "240  30 Jun 2020                2021 Census[210]   \n",
       "241   1 Jul 2021          Official estimate[211]   \n",
       "\n",
       "                                                     5     6  \n",
       "0                                     UN projection[3]        \n",
       "1    The population figure refers to mainland China...  None  \n",
       "2    The figure includes the population of the Indi...  None  \n",
       "3    The figure includes the 50 states and the Dist...  None  \n",
       "4                                                       None  \n",
       "..                                                 ...   ...  \n",
       "237                                                     None  \n",
       "238                                                     None  \n",
       "239  The total population of 825 consisted of 453 r...  None  \n",
       "240                                                     None  \n",
       "241                                                     None  \n",
       "\n",
       "[242 rows x 7 columns]"
      ]
     },
     "execution_count": 50,
     "metadata": {},
     "output_type": "execute_result"
    }
   ],
   "source": [
    "df"
   ]
  },
  {
   "cell_type": "code",
   "execution_count": 53,
   "id": "7fb6de35",
   "metadata": {},
   "outputs": [],
   "source": [
    "df.drop([5,6], axis=1, inplace=True)"
   ]
  },
  {
   "cell_type": "code",
   "execution_count": 54,
   "id": "6428221a",
   "metadata": {},
   "outputs": [
    {
     "data": {
      "text/html": [
       "<div>\n",
       "<style scoped>\n",
       "    .dataframe tbody tr th:only-of-type {\n",
       "        vertical-align: middle;\n",
       "    }\n",
       "\n",
       "    .dataframe tbody tr th {\n",
       "        vertical-align: top;\n",
       "    }\n",
       "\n",
       "    .dataframe thead th {\n",
       "        text-align: right;\n",
       "    }\n",
       "</style>\n",
       "<table border=\"1\" class=\"dataframe\">\n",
       "  <thead>\n",
       "    <tr style=\"text-align: right;\">\n",
       "      <th></th>\n",
       "      <th>0</th>\n",
       "      <th>1</th>\n",
       "      <th>2</th>\n",
       "      <th>3</th>\n",
       "      <th>4</th>\n",
       "    </tr>\n",
       "  </thead>\n",
       "  <tbody>\n",
       "    <tr>\n",
       "      <th>0</th>\n",
       "      <td>–</td>\n",
       "      <td>World</td>\n",
       "      <td>7,993,926,000</td>\n",
       "      <td>100%</td>\n",
       "      <td>24 Nov 2022</td>\n",
       "    </tr>\n",
       "    <tr>\n",
       "      <th>1</th>\n",
       "      <td>China</td>\n",
       "      <td>1,412,600,000</td>\n",
       "      <td>17.7%</td>\n",
       "      <td>31 Dec 2021</td>\n",
       "      <td>Official estimate[4]</td>\n",
       "    </tr>\n",
       "    <tr>\n",
       "      <th>2</th>\n",
       "      <td>India</td>\n",
       "      <td>1,375,586,000</td>\n",
       "      <td>17.2%</td>\n",
       "      <td>1 Mar 2022</td>\n",
       "      <td>Official projection[5]</td>\n",
       "    </tr>\n",
       "    <tr>\n",
       "      <th>3</th>\n",
       "      <td>United States</td>\n",
       "      <td>333,310,455</td>\n",
       "      <td>4.17%</td>\n",
       "      <td>23 Nov 2022</td>\n",
       "      <td>Population clock[6]</td>\n",
       "    </tr>\n",
       "    <tr>\n",
       "      <th>4</th>\n",
       "      <td>Indonesia</td>\n",
       "      <td>275,773,800</td>\n",
       "      <td>3.45%</td>\n",
       "      <td>1 Jul 2022</td>\n",
       "      <td>Official estimate[7]</td>\n",
       "    </tr>\n",
       "    <tr>\n",
       "      <th>...</th>\n",
       "      <td>...</td>\n",
       "      <td>...</td>\n",
       "      <td>...</td>\n",
       "      <td>...</td>\n",
       "      <td>...</td>\n",
       "    </tr>\n",
       "    <tr>\n",
       "      <th>237</th>\n",
       "      <td>Tokelau (New Zealand)</td>\n",
       "      <td>1,647</td>\n",
       "      <td>0%</td>\n",
       "      <td>1 Jan 2019</td>\n",
       "      <td>2019 Census [208]</td>\n",
       "    </tr>\n",
       "    <tr>\n",
       "      <th>238</th>\n",
       "      <td>Niue (New Zealand)</td>\n",
       "      <td>1,549</td>\n",
       "      <td>0%</td>\n",
       "      <td>1 Jul 2021</td>\n",
       "      <td>National annual projection[95]</td>\n",
       "    </tr>\n",
       "    <tr>\n",
       "      <th>239</th>\n",
       "      <td>Vatican City</td>\n",
       "      <td>825</td>\n",
       "      <td>0%</td>\n",
       "      <td>1 Feb 2019</td>\n",
       "      <td>Monthly national estimate[209]</td>\n",
       "    </tr>\n",
       "    <tr>\n",
       "      <th>240</th>\n",
       "      <td>Cocos (Keeling) Islands (Australia)</td>\n",
       "      <td>593</td>\n",
       "      <td>0%</td>\n",
       "      <td>30 Jun 2020</td>\n",
       "      <td>2021 Census[210]</td>\n",
       "    </tr>\n",
       "    <tr>\n",
       "      <th>241</th>\n",
       "      <td>Pitcairn Islands (United Kingdom)</td>\n",
       "      <td>47</td>\n",
       "      <td>0%</td>\n",
       "      <td>1 Jul 2021</td>\n",
       "      <td>Official estimate[211]</td>\n",
       "    </tr>\n",
       "  </tbody>\n",
       "</table>\n",
       "<p>242 rows × 5 columns</p>\n",
       "</div>"
      ],
      "text/plain": [
       "                                        0              1               2  \\\n",
       "0                                       –          World   7,993,926,000   \n",
       "1                                   China  1,412,600,000           17.7%   \n",
       "2                                   India  1,375,586,000           17.2%   \n",
       "3                           United States    333,310,455           4.17%   \n",
       "4                               Indonesia    275,773,800           3.45%   \n",
       "..                                    ...            ...             ...   \n",
       "237                 Tokelau (New Zealand)          1,647              0%   \n",
       "238                    Niue (New Zealand)          1,549              0%   \n",
       "239                          Vatican City            825              0%   \n",
       "240   Cocos (Keeling) Islands (Australia)            593              0%   \n",
       "241     Pitcairn Islands (United Kingdom)             47              0%   \n",
       "\n",
       "               3                               4  \n",
       "0           100%                     24 Nov 2022  \n",
       "1    31 Dec 2021            Official estimate[4]  \n",
       "2     1 Mar 2022          Official projection[5]  \n",
       "3    23 Nov 2022             Population clock[6]  \n",
       "4     1 Jul 2022            Official estimate[7]  \n",
       "..           ...                             ...  \n",
       "237   1 Jan 2019               2019 Census [208]  \n",
       "238   1 Jul 2021  National annual projection[95]  \n",
       "239   1 Feb 2019  Monthly national estimate[209]  \n",
       "240  30 Jun 2020                2021 Census[210]  \n",
       "241   1 Jul 2021          Official estimate[211]  \n",
       "\n",
       "[242 rows x 5 columns]"
      ]
     },
     "execution_count": 54,
     "metadata": {},
     "output_type": "execute_result"
    }
   ],
   "source": [
    "df"
   ]
  },
  {
   "cell_type": "code",
   "execution_count": 56,
   "id": "ec165411",
   "metadata": {},
   "outputs": [],
   "source": [
    "df.drop(labels=0, axis=0, inplace=True)\n"
   ]
  },
  {
   "cell_type": "code",
   "execution_count": 57,
   "id": "720da791",
   "metadata": {},
   "outputs": [
    {
     "data": {
      "text/html": [
       "<div>\n",
       "<style scoped>\n",
       "    .dataframe tbody tr th:only-of-type {\n",
       "        vertical-align: middle;\n",
       "    }\n",
       "\n",
       "    .dataframe tbody tr th {\n",
       "        vertical-align: top;\n",
       "    }\n",
       "\n",
       "    .dataframe thead th {\n",
       "        text-align: right;\n",
       "    }\n",
       "</style>\n",
       "<table border=\"1\" class=\"dataframe\">\n",
       "  <thead>\n",
       "    <tr style=\"text-align: right;\">\n",
       "      <th></th>\n",
       "      <th>0</th>\n",
       "      <th>1</th>\n",
       "      <th>2</th>\n",
       "      <th>3</th>\n",
       "      <th>4</th>\n",
       "    </tr>\n",
       "  </thead>\n",
       "  <tbody>\n",
       "    <tr>\n",
       "      <th>1</th>\n",
       "      <td>China</td>\n",
       "      <td>1,412,600,000</td>\n",
       "      <td>17.7%</td>\n",
       "      <td>31 Dec 2021</td>\n",
       "      <td>Official estimate[4]</td>\n",
       "    </tr>\n",
       "    <tr>\n",
       "      <th>2</th>\n",
       "      <td>India</td>\n",
       "      <td>1,375,586,000</td>\n",
       "      <td>17.2%</td>\n",
       "      <td>1 Mar 2022</td>\n",
       "      <td>Official projection[5]</td>\n",
       "    </tr>\n",
       "    <tr>\n",
       "      <th>3</th>\n",
       "      <td>United States</td>\n",
       "      <td>333,310,455</td>\n",
       "      <td>4.17%</td>\n",
       "      <td>23 Nov 2022</td>\n",
       "      <td>Population clock[6]</td>\n",
       "    </tr>\n",
       "    <tr>\n",
       "      <th>4</th>\n",
       "      <td>Indonesia</td>\n",
       "      <td>275,773,800</td>\n",
       "      <td>3.45%</td>\n",
       "      <td>1 Jul 2022</td>\n",
       "      <td>Official estimate[7]</td>\n",
       "    </tr>\n",
       "    <tr>\n",
       "      <th>5</th>\n",
       "      <td>Pakistan</td>\n",
       "      <td>235,825,000</td>\n",
       "      <td>2.95%</td>\n",
       "      <td>1 Jul 2022</td>\n",
       "      <td>UN projection[3]</td>\n",
       "    </tr>\n",
       "    <tr>\n",
       "      <th>...</th>\n",
       "      <td>...</td>\n",
       "      <td>...</td>\n",
       "      <td>...</td>\n",
       "      <td>...</td>\n",
       "      <td>...</td>\n",
       "    </tr>\n",
       "    <tr>\n",
       "      <th>237</th>\n",
       "      <td>Tokelau (New Zealand)</td>\n",
       "      <td>1,647</td>\n",
       "      <td>0%</td>\n",
       "      <td>1 Jan 2019</td>\n",
       "      <td>2019 Census [208]</td>\n",
       "    </tr>\n",
       "    <tr>\n",
       "      <th>238</th>\n",
       "      <td>Niue (New Zealand)</td>\n",
       "      <td>1,549</td>\n",
       "      <td>0%</td>\n",
       "      <td>1 Jul 2021</td>\n",
       "      <td>National annual projection[95]</td>\n",
       "    </tr>\n",
       "    <tr>\n",
       "      <th>239</th>\n",
       "      <td>Vatican City</td>\n",
       "      <td>825</td>\n",
       "      <td>0%</td>\n",
       "      <td>1 Feb 2019</td>\n",
       "      <td>Monthly national estimate[209]</td>\n",
       "    </tr>\n",
       "    <tr>\n",
       "      <th>240</th>\n",
       "      <td>Cocos (Keeling) Islands (Australia)</td>\n",
       "      <td>593</td>\n",
       "      <td>0%</td>\n",
       "      <td>30 Jun 2020</td>\n",
       "      <td>2021 Census[210]</td>\n",
       "    </tr>\n",
       "    <tr>\n",
       "      <th>241</th>\n",
       "      <td>Pitcairn Islands (United Kingdom)</td>\n",
       "      <td>47</td>\n",
       "      <td>0%</td>\n",
       "      <td>1 Jul 2021</td>\n",
       "      <td>Official estimate[211]</td>\n",
       "    </tr>\n",
       "  </tbody>\n",
       "</table>\n",
       "<p>241 rows × 5 columns</p>\n",
       "</div>"
      ],
      "text/plain": [
       "                                        0              1      2            3  \\\n",
       "1                                   China  1,412,600,000  17.7%  31 Dec 2021   \n",
       "2                                   India  1,375,586,000  17.2%   1 Mar 2022   \n",
       "3                           United States    333,310,455  4.17%  23 Nov 2022   \n",
       "4                               Indonesia    275,773,800  3.45%   1 Jul 2022   \n",
       "5                                Pakistan    235,825,000  2.95%   1 Jul 2022   \n",
       "..                                    ...            ...    ...          ...   \n",
       "237                 Tokelau (New Zealand)          1,647     0%   1 Jan 2019   \n",
       "238                    Niue (New Zealand)          1,549     0%   1 Jul 2021   \n",
       "239                          Vatican City            825     0%   1 Feb 2019   \n",
       "240   Cocos (Keeling) Islands (Australia)            593     0%  30 Jun 2020   \n",
       "241     Pitcairn Islands (United Kingdom)             47     0%   1 Jul 2021   \n",
       "\n",
       "                                  4  \n",
       "1              Official estimate[4]  \n",
       "2            Official projection[5]  \n",
       "3               Population clock[6]  \n",
       "4              Official estimate[7]  \n",
       "5                  UN projection[3]  \n",
       "..                              ...  \n",
       "237               2019 Census [208]  \n",
       "238  National annual projection[95]  \n",
       "239  Monthly national estimate[209]  \n",
       "240                2021 Census[210]  \n",
       "241          Official estimate[211]  \n",
       "\n",
       "[241 rows x 5 columns]"
      ]
     },
     "execution_count": 57,
     "metadata": {},
     "output_type": "execute_result"
    }
   ],
   "source": [
    "df"
   ]
  },
  {
   "cell_type": "code",
   "execution_count": 58,
   "id": "1395fd4c",
   "metadata": {},
   "outputs": [
    {
     "data": {
      "text/plain": [
       "Index(['Country', 'Population', 'Percent', 'Date', 'Source'], dtype='object')"
      ]
     },
     "execution_count": 58,
     "metadata": {},
     "output_type": "execute_result"
    }
   ],
   "source": [
    "new_cols = [\"Country\",\"Population\",\"Percent\",\"Date\",\"Source\"]\n",
    "df.columns = new_cols\n",
    "df.columns"
   ]
  },
  {
   "cell_type": "code",
   "execution_count": 60,
   "id": "ef574beb",
   "metadata": {},
   "outputs": [
    {
     "data": {
      "text/html": [
       "<div>\n",
       "<style scoped>\n",
       "    .dataframe tbody tr th:only-of-type {\n",
       "        vertical-align: middle;\n",
       "    }\n",
       "\n",
       "    .dataframe tbody tr th {\n",
       "        vertical-align: top;\n",
       "    }\n",
       "\n",
       "    .dataframe thead th {\n",
       "        text-align: right;\n",
       "    }\n",
       "</style>\n",
       "<table border=\"1\" class=\"dataframe\">\n",
       "  <thead>\n",
       "    <tr style=\"text-align: right;\">\n",
       "      <th></th>\n",
       "      <th>Country</th>\n",
       "      <th>Population</th>\n",
       "      <th>Percent</th>\n",
       "      <th>Date</th>\n",
       "      <th>Source</th>\n",
       "    </tr>\n",
       "  </thead>\n",
       "  <tbody>\n",
       "    <tr>\n",
       "      <th>237</th>\n",
       "      <td>Tokelau (New Zealand)</td>\n",
       "      <td>1,647</td>\n",
       "      <td>0%</td>\n",
       "      <td>1 Jan 2019</td>\n",
       "      <td>2019 Census [208]</td>\n",
       "    </tr>\n",
       "    <tr>\n",
       "      <th>238</th>\n",
       "      <td>Niue (New Zealand)</td>\n",
       "      <td>1,549</td>\n",
       "      <td>0%</td>\n",
       "      <td>1 Jul 2021</td>\n",
       "      <td>National annual projection[95]</td>\n",
       "    </tr>\n",
       "    <tr>\n",
       "      <th>239</th>\n",
       "      <td>Vatican City</td>\n",
       "      <td>825</td>\n",
       "      <td>0%</td>\n",
       "      <td>1 Feb 2019</td>\n",
       "      <td>Monthly national estimate[209]</td>\n",
       "    </tr>\n",
       "    <tr>\n",
       "      <th>240</th>\n",
       "      <td>Cocos (Keeling) Islands (Australia)</td>\n",
       "      <td>593</td>\n",
       "      <td>0%</td>\n",
       "      <td>30 Jun 2020</td>\n",
       "      <td>2021 Census[210]</td>\n",
       "    </tr>\n",
       "    <tr>\n",
       "      <th>241</th>\n",
       "      <td>Pitcairn Islands (United Kingdom)</td>\n",
       "      <td>47</td>\n",
       "      <td>0%</td>\n",
       "      <td>1 Jul 2021</td>\n",
       "      <td>Official estimate[211]</td>\n",
       "    </tr>\n",
       "  </tbody>\n",
       "</table>\n",
       "</div>"
      ],
      "text/plain": [
       "                                  Country Population Percent         Date  \\\n",
       "237                 Tokelau (New Zealand)      1,647      0%   1 Jan 2019   \n",
       "238                    Niue (New Zealand)      1,549      0%   1 Jul 2021   \n",
       "239                          Vatican City        825      0%   1 Feb 2019   \n",
       "240   Cocos (Keeling) Islands (Australia)        593      0%  30 Jun 2020   \n",
       "241     Pitcairn Islands (United Kingdom)         47      0%   1 Jul 2021   \n",
       "\n",
       "                             Source  \n",
       "237               2019 Census [208]  \n",
       "238  National annual projection[95]  \n",
       "239  Monthly national estimate[209]  \n",
       "240                2021 Census[210]  \n",
       "241          Official estimate[211]  "
      ]
     },
     "execution_count": 60,
     "metadata": {},
     "output_type": "execute_result"
    }
   ],
   "source": [
    "df.tail()"
   ]
  },
  {
   "cell_type": "code",
   "execution_count": 61,
   "id": "711c4ba4",
   "metadata": {},
   "outputs": [
    {
     "name": "stdout",
     "output_type": "stream",
     "text": [
      "<class 'pandas.core.frame.DataFrame'>\n",
      "RangeIndex: 241 entries, 1 to 241\n",
      "Data columns (total 5 columns):\n",
      " #   Column      Non-Null Count  Dtype \n",
      "---  ------      --------------  ----- \n",
      " 0   Country     241 non-null    object\n",
      " 1   Population  241 non-null    object\n",
      " 2   Percent     241 non-null    object\n",
      " 3   Date        241 non-null    object\n",
      " 4   Source      241 non-null    object\n",
      "dtypes: object(5)\n",
      "memory usage: 9.5+ KB\n"
     ]
    }
   ],
   "source": [
    "df.info()"
   ]
  },
  {
   "cell_type": "code",
   "execution_count": 66,
   "id": "4e8335d5",
   "metadata": {},
   "outputs": [
    {
     "ename": "AttributeError",
     "evalue": "'float' object has no attribute 'split'",
     "output_type": "error",
     "traceback": [
      "\u001b[0;31m---------------------------------------------------------------------------\u001b[0m",
      "\u001b[0;31mAttributeError\u001b[0m                            Traceback (most recent call last)",
      "\u001b[0;32m<ipython-input-66-dccf9aebeba7>\u001b[0m in \u001b[0;36m<module>\u001b[0;34m\u001b[0m\n\u001b[0;32m----> 1\u001b[0;31m \u001b[0mdf\u001b[0m\u001b[0;34m[\u001b[0m\u001b[0;34m\"Population\"\u001b[0m\u001b[0;34m]\u001b[0m \u001b[0;34m=\u001b[0m \u001b[0mdf\u001b[0m\u001b[0;34m[\u001b[0m\u001b[0;34m\"Population\"\u001b[0m\u001b[0;34m]\u001b[0m\u001b[0;34m.\u001b[0m\u001b[0mapply\u001b[0m\u001b[0;34m(\u001b[0m\u001b[0;32mlambda\u001b[0m \u001b[0mx\u001b[0m\u001b[0;34m:\u001b[0m\u001b[0mfloat\u001b[0m\u001b[0;34m(\u001b[0m\u001b[0mx\u001b[0m\u001b[0;34m.\u001b[0m\u001b[0msplit\u001b[0m\u001b[0;34m(\u001b[0m\u001b[0;34m)\u001b[0m\u001b[0;34m[\u001b[0m\u001b[0;36m0\u001b[0m\u001b[0;34m]\u001b[0m\u001b[0;34m.\u001b[0m\u001b[0mreplace\u001b[0m\u001b[0;34m(\u001b[0m\u001b[0;34m\",\"\u001b[0m\u001b[0;34m,\u001b[0m\u001b[0;34m\"\"\u001b[0m\u001b[0;34m)\u001b[0m\u001b[0;34m)\u001b[0m\u001b[0;34m)\u001b[0m\u001b[0;34m\u001b[0m\u001b[0;34m\u001b[0m\u001b[0m\n\u001b[0m",
      "\u001b[0;32m~/Library/Python/3.8/lib/python/site-packages/pandas/core/series.py\u001b[0m in \u001b[0;36mapply\u001b[0;34m(self, func, convert_dtype, args, **kwargs)\u001b[0m\n\u001b[1;32m   4431\u001b[0m         \u001b[0mdtype\u001b[0m\u001b[0;34m:\u001b[0m \u001b[0mfloat64\u001b[0m\u001b[0;34m\u001b[0m\u001b[0;34m\u001b[0m\u001b[0m\n\u001b[1;32m   4432\u001b[0m         \"\"\"\n\u001b[0;32m-> 4433\u001b[0;31m         \u001b[0;32mreturn\u001b[0m \u001b[0mSeriesApply\u001b[0m\u001b[0;34m(\u001b[0m\u001b[0mself\u001b[0m\u001b[0;34m,\u001b[0m \u001b[0mfunc\u001b[0m\u001b[0;34m,\u001b[0m \u001b[0mconvert_dtype\u001b[0m\u001b[0;34m,\u001b[0m \u001b[0margs\u001b[0m\u001b[0;34m,\u001b[0m \u001b[0mkwargs\u001b[0m\u001b[0;34m)\u001b[0m\u001b[0;34m.\u001b[0m\u001b[0mapply\u001b[0m\u001b[0;34m(\u001b[0m\u001b[0;34m)\u001b[0m\u001b[0;34m\u001b[0m\u001b[0;34m\u001b[0m\u001b[0m\n\u001b[0m\u001b[1;32m   4434\u001b[0m \u001b[0;34m\u001b[0m\u001b[0m\n\u001b[1;32m   4435\u001b[0m     def _reduce(\n",
      "\u001b[0;32m~/Library/Python/3.8/lib/python/site-packages/pandas/core/apply.py\u001b[0m in \u001b[0;36mapply\u001b[0;34m(self)\u001b[0m\n\u001b[1;32m   1080\u001b[0m             \u001b[0;32mreturn\u001b[0m \u001b[0mself\u001b[0m\u001b[0;34m.\u001b[0m\u001b[0mapply_str\u001b[0m\u001b[0;34m(\u001b[0m\u001b[0;34m)\u001b[0m\u001b[0;34m\u001b[0m\u001b[0;34m\u001b[0m\u001b[0m\n\u001b[1;32m   1081\u001b[0m \u001b[0;34m\u001b[0m\u001b[0m\n\u001b[0;32m-> 1082\u001b[0;31m         \u001b[0;32mreturn\u001b[0m \u001b[0mself\u001b[0m\u001b[0;34m.\u001b[0m\u001b[0mapply_standard\u001b[0m\u001b[0;34m(\u001b[0m\u001b[0;34m)\u001b[0m\u001b[0;34m\u001b[0m\u001b[0;34m\u001b[0m\u001b[0m\n\u001b[0m\u001b[1;32m   1083\u001b[0m \u001b[0;34m\u001b[0m\u001b[0m\n\u001b[1;32m   1084\u001b[0m     \u001b[0;32mdef\u001b[0m \u001b[0magg\u001b[0m\u001b[0;34m(\u001b[0m\u001b[0mself\u001b[0m\u001b[0;34m)\u001b[0m\u001b[0;34m:\u001b[0m\u001b[0;34m\u001b[0m\u001b[0;34m\u001b[0m\u001b[0m\n",
      "\u001b[0;32m~/Library/Python/3.8/lib/python/site-packages/pandas/core/apply.py\u001b[0m in \u001b[0;36mapply_standard\u001b[0;34m(self)\u001b[0m\n\u001b[1;32m   1135\u001b[0m                 \u001b[0;31m# List[Union[Callable[..., Any], str]]]]]\"; expected\u001b[0m\u001b[0;34m\u001b[0m\u001b[0;34m\u001b[0m\u001b[0;34m\u001b[0m\u001b[0m\n\u001b[1;32m   1136\u001b[0m                 \u001b[0;31m# \"Callable[[Any], Any]\"\u001b[0m\u001b[0;34m\u001b[0m\u001b[0;34m\u001b[0m\u001b[0;34m\u001b[0m\u001b[0m\n\u001b[0;32m-> 1137\u001b[0;31m                 mapped = lib.map_infer(\n\u001b[0m\u001b[1;32m   1138\u001b[0m                     \u001b[0mvalues\u001b[0m\u001b[0;34m,\u001b[0m\u001b[0;34m\u001b[0m\u001b[0;34m\u001b[0m\u001b[0m\n\u001b[1;32m   1139\u001b[0m                     \u001b[0mf\u001b[0m\u001b[0;34m,\u001b[0m  \u001b[0;31m# type: ignore[arg-type]\u001b[0m\u001b[0;34m\u001b[0m\u001b[0;34m\u001b[0m\u001b[0m\n",
      "\u001b[0;32mpandas/_libs/lib.pyx\u001b[0m in \u001b[0;36mpandas._libs.lib.map_infer\u001b[0;34m()\u001b[0m\n",
      "\u001b[0;32m<ipython-input-66-dccf9aebeba7>\u001b[0m in \u001b[0;36m<lambda>\u001b[0;34m(x)\u001b[0m\n\u001b[0;32m----> 1\u001b[0;31m \u001b[0mdf\u001b[0m\u001b[0;34m[\u001b[0m\u001b[0;34m\"Population\"\u001b[0m\u001b[0;34m]\u001b[0m \u001b[0;34m=\u001b[0m \u001b[0mdf\u001b[0m\u001b[0;34m[\u001b[0m\u001b[0;34m\"Population\"\u001b[0m\u001b[0;34m]\u001b[0m\u001b[0;34m.\u001b[0m\u001b[0mapply\u001b[0m\u001b[0;34m(\u001b[0m\u001b[0;32mlambda\u001b[0m \u001b[0mx\u001b[0m\u001b[0;34m:\u001b[0m\u001b[0mfloat\u001b[0m\u001b[0;34m(\u001b[0m\u001b[0mx\u001b[0m\u001b[0;34m.\u001b[0m\u001b[0msplit\u001b[0m\u001b[0;34m(\u001b[0m\u001b[0;34m)\u001b[0m\u001b[0;34m[\u001b[0m\u001b[0;36m0\u001b[0m\u001b[0;34m]\u001b[0m\u001b[0;34m.\u001b[0m\u001b[0mreplace\u001b[0m\u001b[0;34m(\u001b[0m\u001b[0;34m\",\"\u001b[0m\u001b[0;34m,\u001b[0m\u001b[0;34m\"\"\u001b[0m\u001b[0;34m)\u001b[0m\u001b[0;34m)\u001b[0m\u001b[0;34m)\u001b[0m\u001b[0;34m\u001b[0m\u001b[0;34m\u001b[0m\u001b[0m\n\u001b[0m",
      "\u001b[0;31mAttributeError\u001b[0m: 'float' object has no attribute 'split'"
     ]
    }
   ],
   "source": [
    "df[\"Population\"] = df[\"Population\"].apply(lambda x:float(x.split()[0].replace(\",\",\"\")))"
   ]
  },
  {
   "cell_type": "code",
   "execution_count": 67,
   "id": "cafedec1",
   "metadata": {},
   "outputs": [
    {
     "data": {
      "text/html": [
       "<div>\n",
       "<style scoped>\n",
       "    .dataframe tbody tr th:only-of-type {\n",
       "        vertical-align: middle;\n",
       "    }\n",
       "\n",
       "    .dataframe tbody tr th {\n",
       "        vertical-align: top;\n",
       "    }\n",
       "\n",
       "    .dataframe thead th {\n",
       "        text-align: right;\n",
       "    }\n",
       "</style>\n",
       "<table border=\"1\" class=\"dataframe\">\n",
       "  <thead>\n",
       "    <tr style=\"text-align: right;\">\n",
       "      <th></th>\n",
       "      <th>Country</th>\n",
       "      <th>Population</th>\n",
       "      <th>Percent</th>\n",
       "      <th>Date</th>\n",
       "      <th>Source</th>\n",
       "    </tr>\n",
       "  </thead>\n",
       "  <tbody>\n",
       "    <tr>\n",
       "      <th>1</th>\n",
       "      <td>China</td>\n",
       "      <td>1.412600e+09</td>\n",
       "      <td>17.7%</td>\n",
       "      <td>31 Dec 2021</td>\n",
       "      <td>Official estimate[4]</td>\n",
       "    </tr>\n",
       "    <tr>\n",
       "      <th>2</th>\n",
       "      <td>India</td>\n",
       "      <td>1.375586e+09</td>\n",
       "      <td>17.2%</td>\n",
       "      <td>1 Mar 2022</td>\n",
       "      <td>Official projection[5]</td>\n",
       "    </tr>\n",
       "    <tr>\n",
       "      <th>3</th>\n",
       "      <td>United States</td>\n",
       "      <td>3.333105e+08</td>\n",
       "      <td>4.17%</td>\n",
       "      <td>23 Nov 2022</td>\n",
       "      <td>Population clock[6]</td>\n",
       "    </tr>\n",
       "    <tr>\n",
       "      <th>4</th>\n",
       "      <td>Indonesia</td>\n",
       "      <td>2.757738e+08</td>\n",
       "      <td>3.45%</td>\n",
       "      <td>1 Jul 2022</td>\n",
       "      <td>Official estimate[7]</td>\n",
       "    </tr>\n",
       "    <tr>\n",
       "      <th>5</th>\n",
       "      <td>Pakistan</td>\n",
       "      <td>2.358250e+08</td>\n",
       "      <td>2.95%</td>\n",
       "      <td>1 Jul 2022</td>\n",
       "      <td>UN projection[3]</td>\n",
       "    </tr>\n",
       "  </tbody>\n",
       "</table>\n",
       "</div>"
      ],
      "text/plain": [
       "          Country    Population Percent         Date                  Source\n",
       "1           China  1.412600e+09   17.7%  31 Dec 2021    Official estimate[4]\n",
       "2           India  1.375586e+09   17.2%   1 Mar 2022  Official projection[5]\n",
       "3   United States  3.333105e+08   4.17%  23 Nov 2022     Population clock[6]\n",
       "4       Indonesia  2.757738e+08   3.45%   1 Jul 2022    Official estimate[7]\n",
       "5        Pakistan  2.358250e+08   2.95%   1 Jul 2022        UN projection[3]"
      ]
     },
     "execution_count": 67,
     "metadata": {},
     "output_type": "execute_result"
    }
   ],
   "source": [
    "df.head()"
   ]
  },
  {
   "cell_type": "code",
   "execution_count": 69,
   "id": "e438d0ab",
   "metadata": {},
   "outputs": [],
   "source": [
    "df[\"Population\"] = df[\"Population\"].astype(int)"
   ]
  },
  {
   "cell_type": "code",
   "execution_count": 77,
   "id": "6ce8738a",
   "metadata": {},
   "outputs": [
    {
     "data": {
      "text/html": [
       "<div>\n",
       "<style scoped>\n",
       "    .dataframe tbody tr th:only-of-type {\n",
       "        vertical-align: middle;\n",
       "    }\n",
       "\n",
       "    .dataframe tbody tr th {\n",
       "        vertical-align: top;\n",
       "    }\n",
       "\n",
       "    .dataframe thead th {\n",
       "        text-align: right;\n",
       "    }\n",
       "</style>\n",
       "<table border=\"1\" class=\"dataframe\">\n",
       "  <thead>\n",
       "    <tr style=\"text-align: right;\">\n",
       "      <th></th>\n",
       "      <th>Country</th>\n",
       "      <th>Population</th>\n",
       "      <th>Percent</th>\n",
       "      <th>Date</th>\n",
       "      <th>Source</th>\n",
       "    </tr>\n",
       "  </thead>\n",
       "  <tbody>\n",
       "    <tr>\n",
       "      <th>1</th>\n",
       "      <td>China</td>\n",
       "      <td>1412600000</td>\n",
       "      <td>17.7%</td>\n",
       "      <td>31 Dec 2021</td>\n",
       "      <td>Official estimate[4]</td>\n",
       "    </tr>\n",
       "    <tr>\n",
       "      <th>2</th>\n",
       "      <td>India</td>\n",
       "      <td>1375586000</td>\n",
       "      <td>17.2%</td>\n",
       "      <td>1 Mar 2022</td>\n",
       "      <td>Official projection[5]</td>\n",
       "    </tr>\n",
       "    <tr>\n",
       "      <th>3</th>\n",
       "      <td>United States</td>\n",
       "      <td>333310455</td>\n",
       "      <td>4.17%</td>\n",
       "      <td>23 Nov 2022</td>\n",
       "      <td>Population clock[6]</td>\n",
       "    </tr>\n",
       "    <tr>\n",
       "      <th>4</th>\n",
       "      <td>Indonesia</td>\n",
       "      <td>275773800</td>\n",
       "      <td>3.45%</td>\n",
       "      <td>1 Jul 2022</td>\n",
       "      <td>Official estimate[7]</td>\n",
       "    </tr>\n",
       "    <tr>\n",
       "      <th>5</th>\n",
       "      <td>Pakistan</td>\n",
       "      <td>235825000</td>\n",
       "      <td>2.95%</td>\n",
       "      <td>1 Jul 2022</td>\n",
       "      <td>UN projection[3]</td>\n",
       "    </tr>\n",
       "    <tr>\n",
       "      <th>6</th>\n",
       "      <td>Nigeria</td>\n",
       "      <td>218541000</td>\n",
       "      <td>2.73%</td>\n",
       "      <td>1 Jul 2022</td>\n",
       "      <td>UN projection[3]</td>\n",
       "    </tr>\n",
       "    <tr>\n",
       "      <th>7</th>\n",
       "      <td>Brazil</td>\n",
       "      <td>215432668</td>\n",
       "      <td>2.69%</td>\n",
       "      <td>24 Nov 2022</td>\n",
       "      <td>National population clock[8]</td>\n",
       "    </tr>\n",
       "    <tr>\n",
       "      <th>8</th>\n",
       "      <td>Bangladesh</td>\n",
       "      <td>165158616</td>\n",
       "      <td>2.07%</td>\n",
       "      <td>15 Jun 2022</td>\n",
       "      <td>2022 preliminary census result[9]</td>\n",
       "    </tr>\n",
       "    <tr>\n",
       "      <th>9</th>\n",
       "      <td>Russia</td>\n",
       "      <td>145100000</td>\n",
       "      <td>1.82%</td>\n",
       "      <td>1 Sep 2022</td>\n",
       "      <td>Official estimate[10]</td>\n",
       "    </tr>\n",
       "    <tr>\n",
       "      <th>10</th>\n",
       "      <td>Mexico</td>\n",
       "      <td>128533664</td>\n",
       "      <td>1.61%</td>\n",
       "      <td>30 Jun 2022</td>\n",
       "      <td>National quarterly estimate[11]</td>\n",
       "    </tr>\n",
       "  </tbody>\n",
       "</table>\n",
       "</div>"
      ],
      "text/plain": [
       "           Country  Population Percent         Date  \\\n",
       "1            China  1412600000   17.7%  31 Dec 2021   \n",
       "2            India  1375586000   17.2%   1 Mar 2022   \n",
       "3    United States   333310455   4.17%  23 Nov 2022   \n",
       "4        Indonesia   275773800   3.45%   1 Jul 2022   \n",
       "5         Pakistan   235825000   2.95%   1 Jul 2022   \n",
       "6          Nigeria   218541000   2.73%   1 Jul 2022   \n",
       "7           Brazil   215432668   2.69%  24 Nov 2022   \n",
       "8       Bangladesh   165158616   2.07%  15 Jun 2022   \n",
       "9           Russia   145100000   1.82%   1 Sep 2022   \n",
       "10          Mexico   128533664   1.61%  30 Jun 2022   \n",
       "\n",
       "                               Source  \n",
       "1                Official estimate[4]  \n",
       "2              Official projection[5]  \n",
       "3                 Population clock[6]  \n",
       "4                Official estimate[7]  \n",
       "5                    UN projection[3]  \n",
       "6                    UN projection[3]  \n",
       "7        National population clock[8]  \n",
       "8   2022 preliminary census result[9]  \n",
       "9               Official estimate[10]  \n",
       "10    National quarterly estimate[11]  "
      ]
     },
     "execution_count": 77,
     "metadata": {},
     "output_type": "execute_result"
    }
   ],
   "source": [
    "df.head(10)"
   ]
  },
  {
   "cell_type": "code",
   "execution_count": 75,
   "id": "b9e8919b",
   "metadata": {},
   "outputs": [
    {
     "data": {
      "text/plain": [
       "241"
      ]
     },
     "execution_count": 75,
     "metadata": {},
     "output_type": "execute_result"
    }
   ],
   "source": [
    "df[\"Country\"].nunique()"
   ]
  },
  {
   "cell_type": "code",
   "execution_count": 78,
   "id": "7542dd8c",
   "metadata": {},
   "outputs": [],
   "source": [
    "# save dataframe  as csv data \n",
    "\n",
    "df.to_csv(\"polulation.csv\",index=False)"
   ]
  },
  {
   "cell_type": "code",
   "execution_count": 79,
   "id": "1a140ac0",
   "metadata": {},
   "outputs": [],
   "source": [
    "read_csv = pd.read_csv(\"polulation.csv\")"
   ]
  },
  {
   "cell_type": "code",
   "execution_count": 80,
   "id": "d1729000",
   "metadata": {},
   "outputs": [
    {
     "data": {
      "text/html": [
       "<div>\n",
       "<style scoped>\n",
       "    .dataframe tbody tr th:only-of-type {\n",
       "        vertical-align: middle;\n",
       "    }\n",
       "\n",
       "    .dataframe tbody tr th {\n",
       "        vertical-align: top;\n",
       "    }\n",
       "\n",
       "    .dataframe thead th {\n",
       "        text-align: right;\n",
       "    }\n",
       "</style>\n",
       "<table border=\"1\" class=\"dataframe\">\n",
       "  <thead>\n",
       "    <tr style=\"text-align: right;\">\n",
       "      <th></th>\n",
       "      <th>Country</th>\n",
       "      <th>Population</th>\n",
       "      <th>Percent</th>\n",
       "      <th>Date</th>\n",
       "      <th>Source</th>\n",
       "    </tr>\n",
       "  </thead>\n",
       "  <tbody>\n",
       "    <tr>\n",
       "      <th>0</th>\n",
       "      <td>China</td>\n",
       "      <td>1412600000</td>\n",
       "      <td>17.7%</td>\n",
       "      <td>31 Dec 2021</td>\n",
       "      <td>Official estimate[4]</td>\n",
       "    </tr>\n",
       "    <tr>\n",
       "      <th>1</th>\n",
       "      <td>India</td>\n",
       "      <td>1375586000</td>\n",
       "      <td>17.2%</td>\n",
       "      <td>1 Mar 2022</td>\n",
       "      <td>Official projection[5]</td>\n",
       "    </tr>\n",
       "    <tr>\n",
       "      <th>2</th>\n",
       "      <td>United States</td>\n",
       "      <td>333310455</td>\n",
       "      <td>4.17%</td>\n",
       "      <td>23 Nov 2022</td>\n",
       "      <td>Population clock[6]</td>\n",
       "    </tr>\n",
       "    <tr>\n",
       "      <th>3</th>\n",
       "      <td>Indonesia</td>\n",
       "      <td>275773800</td>\n",
       "      <td>3.45%</td>\n",
       "      <td>1 Jul 2022</td>\n",
       "      <td>Official estimate[7]</td>\n",
       "    </tr>\n",
       "    <tr>\n",
       "      <th>4</th>\n",
       "      <td>Pakistan</td>\n",
       "      <td>235825000</td>\n",
       "      <td>2.95%</td>\n",
       "      <td>1 Jul 2022</td>\n",
       "      <td>UN projection[3]</td>\n",
       "    </tr>\n",
       "  </tbody>\n",
       "</table>\n",
       "</div>"
      ],
      "text/plain": [
       "          Country  Population Percent         Date                  Source\n",
       "0           China  1412600000   17.7%  31 Dec 2021    Official estimate[4]\n",
       "1           India  1375586000   17.2%   1 Mar 2022  Official projection[5]\n",
       "2   United States   333310455   4.17%  23 Nov 2022     Population clock[6]\n",
       "3       Indonesia   275773800   3.45%   1 Jul 2022    Official estimate[7]\n",
       "4        Pakistan   235825000   2.95%   1 Jul 2022        UN projection[3]"
      ]
     },
     "execution_count": 80,
     "metadata": {},
     "output_type": "execute_result"
    }
   ],
   "source": [
    "read_csv.head()"
   ]
  },
  {
   "cell_type": "code",
   "execution_count": 81,
   "id": "c5d63b28",
   "metadata": {},
   "outputs": [],
   "source": [
    "fifa = requests.get(\"https://en.wikipedia.org/wiki/FIFA_World_Cup\")"
   ]
  },
  {
   "cell_type": "code",
   "execution_count": 82,
   "id": "fd786840",
   "metadata": {},
   "outputs": [],
   "source": [
    "soup = BeautifulSoup(fifa.content, \"html.parser\")"
   ]
  },
  {
   "cell_type": "code",
   "execution_count": 85,
   "id": "b3fe6ba7",
   "metadata": {},
   "outputs": [
    {
     "name": "stdout",
     "output_type": "stream",
     "text": [
      "FIFA World Cup - Wikipedia\n"
     ]
    }
   ],
   "source": [
    "print(soup.title.string)"
   ]
  },
  {
   "cell_type": "code",
   "execution_count": 91,
   "id": "0290557d",
   "metadata": {},
   "outputs": [],
   "source": [
    "right_table = soup.find_all(\"table\", {\"class\":\"wikitable sortable\"})"
   ]
  },
  {
   "cell_type": "code",
   "execution_count": 101,
   "id": "e353822b",
   "metadata": {},
   "outputs": [
    {
     "data": {
      "text/plain": [
       "12"
      ]
     },
     "execution_count": 101,
     "metadata": {},
     "output_type": "execute_result"
    }
   ],
   "source": [
    "for row in right_table[4].findAll(\"tr\"):\n",
    "    column = row.findAll(\"td\")\n",
    "    \n",
    "len(column)\n"
   ]
  },
  {
   "cell_type": "code",
   "execution_count": 102,
   "id": "0fa6aaed",
   "metadata": {},
   "outputs": [],
   "source": [
    "rows = right_table[4].find_all(\"tr\")"
   ]
  },
  {
   "cell_type": "code",
   "execution_count": 109,
   "id": "b76bdca2",
   "metadata": {},
   "outputs": [
    {
     "name": "stdout",
     "output_type": "stream",
     "text": [
      "<tr>\n",
      "<th>Rank\n",
      "</th>\n",
      "<th>Team\n",
      "</th>\n",
      "<th>Participations\n",
      "</th>\n",
      "<th>Titles\n",
      "</th>\n",
      "<th>Pld\n",
      "</th>\n",
      "<th>W\n",
      "</th>\n",
      "<th>D\n",
      "</th>\n",
      "<th>L\n",
      "</th>\n",
      "<th>GF\n",
      "</th>\n",
      "<th>GA\n",
      "</th>\n",
      "<th>GD\n",
      "</th>\n",
      "<th>Pts\n",
      "</th></tr>\n"
     ]
    }
   ],
   "source": [
    "print(rows[0])"
   ]
  },
  {
   "cell_type": "code",
   "execution_count": 104,
   "id": "5bfc616d",
   "metadata": {},
   "outputs": [],
   "source": [
    "header = [th.text.rstrip() for th in rows[0].find_all(\"th\")]\n"
   ]
  },
  {
   "cell_type": "code",
   "execution_count": 106,
   "id": "13042771",
   "metadata": {},
   "outputs": [
    {
     "name": "stdout",
     "output_type": "stream",
     "text": [
      "['Rank', 'Team', 'Participations', 'Titles', 'Pld', 'W', 'D', 'L', 'GF', 'GA', 'GD', 'Pts']\n",
      "12\n"
     ]
    }
   ],
   "source": [
    "print(header)\n",
    "print(len(header))"
   ]
  },
  {
   "cell_type": "code",
   "execution_count": 112,
   "id": "6e5e35ff",
   "metadata": {},
   "outputs": [
    {
     "name": "stdout",
     "output_type": "stream",
     "text": [
      "[<tr>\n",
      "<td>1\n",
      "</td>\n",
      "<td align=\"left\"><span style=\"white-space:nowrap\"><span class=\"flagicon\"><img alt=\"\" class=\"thumbborder\" data-file-height=\"504\" data-file-width=\"720\" decoding=\"async\" height=\"15\" src=\"//upload.wikimedia.org/wikipedia/en/thumb/0/05/Flag_of_Brazil.svg/22px-Flag_of_Brazil.svg.png\" srcset=\"//upload.wikimedia.org/wikipedia/en/thumb/0/05/Flag_of_Brazil.svg/33px-Flag_of_Brazil.svg.png 1.5x, //upload.wikimedia.org/wikipedia/en/thumb/0/05/Flag_of_Brazil.svg/43px-Flag_of_Brazil.svg.png 2x\" width=\"22\"/> </span><a href=\"/wiki/Brazil_national_football_team\" title=\"Brazil national football team\">Brazil</a></span>\n",
      "</td>\n",
      "<td>21\n",
      "</td>\n",
      "<td>5\n",
      "</td>\n",
      "<td>109\n",
      "</td>\n",
      "<td>73\n",
      "</td>\n",
      "<td>18\n",
      "</td>\n",
      "<td>18\n",
      "</td>\n",
      "<td>229\n",
      "</td>\n",
      "<td>105\n",
      "</td>\n",
      "<td>124\n",
      "</td>\n",
      "<td>237\n",
      "</td></tr>, <tr>\n",
      "<td>2\n",
      "</td>\n",
      "<td align=\"left\"><span style=\"white-space:nowrap\"><span class=\"flagicon\"><img alt=\"\" class=\"thumbborder\" data-file-height=\"600\" data-file-width=\"1000\" decoding=\"async\" height=\"14\" src=\"//upload.wikimedia.org/wikipedia/en/thumb/b/ba/Flag_of_Germany.svg/23px-Flag_of_Germany.svg.png\" srcset=\"//upload.wikimedia.org/wikipedia/en/thumb/b/ba/Flag_of_Germany.svg/35px-Flag_of_Germany.svg.png 1.5x, //upload.wikimedia.org/wikipedia/en/thumb/b/ba/Flag_of_Germany.svg/46px-Flag_of_Germany.svg.png 2x\" width=\"23\"/> </span><a href=\"/wiki/Germany_national_football_team\" title=\"Germany national football team\">Germany</a></span><sup class=\"reference\" id=\"cite_ref-125\"><a href=\"#cite_note-125\">[123]</a></sup>\n",
      "</td>\n",
      "<td>19\n",
      "</td>\n",
      "<td>4\n",
      "</td>\n",
      "<td>109\n",
      "</td>\n",
      "<td>67\n",
      "</td>\n",
      "<td>20\n",
      "</td>\n",
      "<td>22\n",
      "</td>\n",
      "<td>226\n",
      "</td>\n",
      "<td>125\n",
      "</td>\n",
      "<td>101\n",
      "</td>\n",
      "<td>221\n",
      "</td></tr>]\n"
     ]
    }
   ],
   "source": [
    "print(rows[1:3])"
   ]
  },
  {
   "cell_type": "code",
   "execution_count": 113,
   "id": "ad6ebed2",
   "metadata": {},
   "outputs": [
    {
     "data": {
      "text/plain": [
       "8"
      ]
     },
     "execution_count": 113,
     "metadata": {},
     "output_type": "execute_result"
    }
   ],
   "source": [
    "lst_data = []\n",
    "for row in rows[1:]:\n",
    "    data = [d.text.rstrip() for d in row.find_all(\"td\")]\n",
    "    lst_data.append(data)\n",
    "    \n",
    "len(lst_data)"
   ]
  },
  {
   "cell_type": "code",
   "execution_count": 114,
   "id": "d1895d91",
   "metadata": {},
   "outputs": [],
   "source": [
    "df_data = pd.DataFrame(lst_data)"
   ]
  },
  {
   "cell_type": "code",
   "execution_count": 116,
   "id": "d0f57595",
   "metadata": {},
   "outputs": [
    {
     "data": {
      "text/html": [
       "<div>\n",
       "<style scoped>\n",
       "    .dataframe tbody tr th:only-of-type {\n",
       "        vertical-align: middle;\n",
       "    }\n",
       "\n",
       "    .dataframe tbody tr th {\n",
       "        vertical-align: top;\n",
       "    }\n",
       "\n",
       "    .dataframe thead th {\n",
       "        text-align: right;\n",
       "    }\n",
       "</style>\n",
       "<table border=\"1\" class=\"dataframe\">\n",
       "  <thead>\n",
       "    <tr style=\"text-align: right;\">\n",
       "      <th></th>\n",
       "      <th>0</th>\n",
       "      <th>1</th>\n",
       "      <th>2</th>\n",
       "      <th>3</th>\n",
       "      <th>4</th>\n",
       "      <th>5</th>\n",
       "      <th>6</th>\n",
       "      <th>7</th>\n",
       "      <th>8</th>\n",
       "      <th>9</th>\n",
       "      <th>10</th>\n",
       "      <th>11</th>\n",
       "    </tr>\n",
       "  </thead>\n",
       "  <tbody>\n",
       "    <tr>\n",
       "      <th>0</th>\n",
       "      <td>1</td>\n",
       "      <td>Brazil</td>\n",
       "      <td>21</td>\n",
       "      <td>5</td>\n",
       "      <td>109</td>\n",
       "      <td>73</td>\n",
       "      <td>18</td>\n",
       "      <td>18</td>\n",
       "      <td>229</td>\n",
       "      <td>105</td>\n",
       "      <td>124</td>\n",
       "      <td>237</td>\n",
       "    </tr>\n",
       "    <tr>\n",
       "      <th>1</th>\n",
       "      <td>2</td>\n",
       "      <td>Germany[123]</td>\n",
       "      <td>19</td>\n",
       "      <td>4</td>\n",
       "      <td>109</td>\n",
       "      <td>67</td>\n",
       "      <td>20</td>\n",
       "      <td>22</td>\n",
       "      <td>226</td>\n",
       "      <td>125</td>\n",
       "      <td>101</td>\n",
       "      <td>221</td>\n",
       "    </tr>\n",
       "    <tr>\n",
       "      <th>2</th>\n",
       "      <td>3</td>\n",
       "      <td>Italy</td>\n",
       "      <td>18</td>\n",
       "      <td>4</td>\n",
       "      <td>83</td>\n",
       "      <td>45</td>\n",
       "      <td>21</td>\n",
       "      <td>17</td>\n",
       "      <td>128</td>\n",
       "      <td>77</td>\n",
       "      <td>51</td>\n",
       "      <td>156</td>\n",
       "    </tr>\n",
       "    <tr>\n",
       "      <th>3</th>\n",
       "      <td>4</td>\n",
       "      <td>Argentina</td>\n",
       "      <td>17</td>\n",
       "      <td>2</td>\n",
       "      <td>81</td>\n",
       "      <td>43</td>\n",
       "      <td>15</td>\n",
       "      <td>23</td>\n",
       "      <td>137</td>\n",
       "      <td>93</td>\n",
       "      <td>44</td>\n",
       "      <td>144</td>\n",
       "    </tr>\n",
       "    <tr>\n",
       "      <th>4</th>\n",
       "      <td>5</td>\n",
       "      <td>France</td>\n",
       "      <td>15</td>\n",
       "      <td>2</td>\n",
       "      <td>66</td>\n",
       "      <td>34</td>\n",
       "      <td>13</td>\n",
       "      <td>19</td>\n",
       "      <td>120</td>\n",
       "      <td>77</td>\n",
       "      <td>43</td>\n",
       "      <td>115</td>\n",
       "    </tr>\n",
       "    <tr>\n",
       "      <th>5</th>\n",
       "      <td>6</td>\n",
       "      <td>England</td>\n",
       "      <td>15</td>\n",
       "      <td>1</td>\n",
       "      <td>69</td>\n",
       "      <td>29</td>\n",
       "      <td>21</td>\n",
       "      <td>19</td>\n",
       "      <td>91</td>\n",
       "      <td>64</td>\n",
       "      <td>27</td>\n",
       "      <td>108</td>\n",
       "    </tr>\n",
       "    <tr>\n",
       "      <th>6</th>\n",
       "      <td>7</td>\n",
       "      <td>Spain</td>\n",
       "      <td>15</td>\n",
       "      <td>1</td>\n",
       "      <td>63</td>\n",
       "      <td>30</td>\n",
       "      <td>15</td>\n",
       "      <td>18</td>\n",
       "      <td>99</td>\n",
       "      <td>72</td>\n",
       "      <td>27</td>\n",
       "      <td>105</td>\n",
       "    </tr>\n",
       "    <tr>\n",
       "      <th>7</th>\n",
       "      <td>8</td>\n",
       "      <td>Uruguay</td>\n",
       "      <td>13</td>\n",
       "      <td>2</td>\n",
       "      <td>56</td>\n",
       "      <td>24</td>\n",
       "      <td>12</td>\n",
       "      <td>20</td>\n",
       "      <td>87</td>\n",
       "      <td>74</td>\n",
       "      <td>13</td>\n",
       "      <td>84</td>\n",
       "    </tr>\n",
       "  </tbody>\n",
       "</table>\n",
       "</div>"
      ],
      "text/plain": [
       "  0              1   2  3    4   5   6   7    8    9    10   11\n",
       "0  1         Brazil  21  5  109  73  18  18  229  105  124  237\n",
       "1  2   Germany[123]  19  4  109  67  20  22  226  125  101  221\n",
       "2  3          Italy  18  4   83  45  21  17  128   77   51  156\n",
       "3  4      Argentina  17  2   81  43  15  23  137   93   44  144\n",
       "4  5         France  15  2   66  34  13  19  120   77   43  115\n",
       "5  6        England  15  1   69  29  21  19   91   64   27  108\n",
       "6  7          Spain  15  1   63  30  15  18   99   72   27  105\n",
       "7  8        Uruguay  13  2   56  24  12  20   87   74   13   84"
      ]
     },
     "execution_count": 116,
     "metadata": {},
     "output_type": "execute_result"
    }
   ],
   "source": [
    "df_data.head(10)"
   ]
  },
  {
   "cell_type": "code",
   "execution_count": 117,
   "id": "db386f7f",
   "metadata": {},
   "outputs": [],
   "source": [
    "new_col = ['Rank', 'Team', 'Participations', 'Titles', 'Pld', 'W', 'D', 'L', 'GF', 'GA', 'GD', 'Pts']\n",
    "df_data.columns = new_col"
   ]
  },
  {
   "cell_type": "code",
   "execution_count": 118,
   "id": "7afacb4e",
   "metadata": {},
   "outputs": [
    {
     "data": {
      "text/html": [
       "<div>\n",
       "<style scoped>\n",
       "    .dataframe tbody tr th:only-of-type {\n",
       "        vertical-align: middle;\n",
       "    }\n",
       "\n",
       "    .dataframe tbody tr th {\n",
       "        vertical-align: top;\n",
       "    }\n",
       "\n",
       "    .dataframe thead th {\n",
       "        text-align: right;\n",
       "    }\n",
       "</style>\n",
       "<table border=\"1\" class=\"dataframe\">\n",
       "  <thead>\n",
       "    <tr style=\"text-align: right;\">\n",
       "      <th></th>\n",
       "      <th>Rank</th>\n",
       "      <th>Team</th>\n",
       "      <th>Participations</th>\n",
       "      <th>Titles</th>\n",
       "      <th>Pld</th>\n",
       "      <th>W</th>\n",
       "      <th>D</th>\n",
       "      <th>L</th>\n",
       "      <th>GF</th>\n",
       "      <th>GA</th>\n",
       "      <th>GD</th>\n",
       "      <th>Pts</th>\n",
       "    </tr>\n",
       "  </thead>\n",
       "  <tbody>\n",
       "    <tr>\n",
       "      <th>0</th>\n",
       "      <td>1</td>\n",
       "      <td>Brazil</td>\n",
       "      <td>21</td>\n",
       "      <td>5</td>\n",
       "      <td>109</td>\n",
       "      <td>73</td>\n",
       "      <td>18</td>\n",
       "      <td>18</td>\n",
       "      <td>229</td>\n",
       "      <td>105</td>\n",
       "      <td>124</td>\n",
       "      <td>237</td>\n",
       "    </tr>\n",
       "    <tr>\n",
       "      <th>1</th>\n",
       "      <td>2</td>\n",
       "      <td>Germany[123]</td>\n",
       "      <td>19</td>\n",
       "      <td>4</td>\n",
       "      <td>109</td>\n",
       "      <td>67</td>\n",
       "      <td>20</td>\n",
       "      <td>22</td>\n",
       "      <td>226</td>\n",
       "      <td>125</td>\n",
       "      <td>101</td>\n",
       "      <td>221</td>\n",
       "    </tr>\n",
       "    <tr>\n",
       "      <th>2</th>\n",
       "      <td>3</td>\n",
       "      <td>Italy</td>\n",
       "      <td>18</td>\n",
       "      <td>4</td>\n",
       "      <td>83</td>\n",
       "      <td>45</td>\n",
       "      <td>21</td>\n",
       "      <td>17</td>\n",
       "      <td>128</td>\n",
       "      <td>77</td>\n",
       "      <td>51</td>\n",
       "      <td>156</td>\n",
       "    </tr>\n",
       "    <tr>\n",
       "      <th>3</th>\n",
       "      <td>4</td>\n",
       "      <td>Argentina</td>\n",
       "      <td>17</td>\n",
       "      <td>2</td>\n",
       "      <td>81</td>\n",
       "      <td>43</td>\n",
       "      <td>15</td>\n",
       "      <td>23</td>\n",
       "      <td>137</td>\n",
       "      <td>93</td>\n",
       "      <td>44</td>\n",
       "      <td>144</td>\n",
       "    </tr>\n",
       "    <tr>\n",
       "      <th>4</th>\n",
       "      <td>5</td>\n",
       "      <td>France</td>\n",
       "      <td>15</td>\n",
       "      <td>2</td>\n",
       "      <td>66</td>\n",
       "      <td>34</td>\n",
       "      <td>13</td>\n",
       "      <td>19</td>\n",
       "      <td>120</td>\n",
       "      <td>77</td>\n",
       "      <td>43</td>\n",
       "      <td>115</td>\n",
       "    </tr>\n",
       "    <tr>\n",
       "      <th>5</th>\n",
       "      <td>6</td>\n",
       "      <td>England</td>\n",
       "      <td>15</td>\n",
       "      <td>1</td>\n",
       "      <td>69</td>\n",
       "      <td>29</td>\n",
       "      <td>21</td>\n",
       "      <td>19</td>\n",
       "      <td>91</td>\n",
       "      <td>64</td>\n",
       "      <td>27</td>\n",
       "      <td>108</td>\n",
       "    </tr>\n",
       "    <tr>\n",
       "      <th>6</th>\n",
       "      <td>7</td>\n",
       "      <td>Spain</td>\n",
       "      <td>15</td>\n",
       "      <td>1</td>\n",
       "      <td>63</td>\n",
       "      <td>30</td>\n",
       "      <td>15</td>\n",
       "      <td>18</td>\n",
       "      <td>99</td>\n",
       "      <td>72</td>\n",
       "      <td>27</td>\n",
       "      <td>105</td>\n",
       "    </tr>\n",
       "    <tr>\n",
       "      <th>7</th>\n",
       "      <td>8</td>\n",
       "      <td>Uruguay</td>\n",
       "      <td>13</td>\n",
       "      <td>2</td>\n",
       "      <td>56</td>\n",
       "      <td>24</td>\n",
       "      <td>12</td>\n",
       "      <td>20</td>\n",
       "      <td>87</td>\n",
       "      <td>74</td>\n",
       "      <td>13</td>\n",
       "      <td>84</td>\n",
       "    </tr>\n",
       "  </tbody>\n",
       "</table>\n",
       "</div>"
      ],
      "text/plain": [
       "  Rank           Team Participations Titles  Pld   W   D   L   GF   GA   GD  \\\n",
       "0    1         Brazil             21      5  109  73  18  18  229  105  124   \n",
       "1    2   Germany[123]             19      4  109  67  20  22  226  125  101   \n",
       "2    3          Italy             18      4   83  45  21  17  128   77   51   \n",
       "3    4      Argentina             17      2   81  43  15  23  137   93   44   \n",
       "4    5         France             15      2   66  34  13  19  120   77   43   \n",
       "5    6        England             15      1   69  29  21  19   91   64   27   \n",
       "6    7          Spain             15      1   63  30  15  18   99   72   27   \n",
       "7    8        Uruguay             13      2   56  24  12  20   87   74   13   \n",
       "\n",
       "   Pts  \n",
       "0  237  \n",
       "1  221  \n",
       "2  156  \n",
       "3  144  \n",
       "4  115  \n",
       "5  108  \n",
       "6  105  \n",
       "7   84  "
      ]
     },
     "execution_count": 118,
     "metadata": {},
     "output_type": "execute_result"
    }
   ],
   "source": [
    "df_data"
   ]
  },
  {
   "cell_type": "code",
   "execution_count": 119,
   "id": "a434adfd",
   "metadata": {},
   "outputs": [],
   "source": [
    "df_data.to_csv(\"all_time_champs.csv\", index=False)"
   ]
  },
  {
   "cell_type": "code",
   "execution_count": 120,
   "id": "d356c430",
   "metadata": {},
   "outputs": [],
   "source": [
    "all_champs = pd.read_csv(\"all_time_champs.csv\")"
   ]
  },
  {
   "cell_type": "code",
   "execution_count": 121,
   "id": "a8fe6e84",
   "metadata": {},
   "outputs": [
    {
     "data": {
      "text/html": [
       "<div>\n",
       "<style scoped>\n",
       "    .dataframe tbody tr th:only-of-type {\n",
       "        vertical-align: middle;\n",
       "    }\n",
       "\n",
       "    .dataframe tbody tr th {\n",
       "        vertical-align: top;\n",
       "    }\n",
       "\n",
       "    .dataframe thead th {\n",
       "        text-align: right;\n",
       "    }\n",
       "</style>\n",
       "<table border=\"1\" class=\"dataframe\">\n",
       "  <thead>\n",
       "    <tr style=\"text-align: right;\">\n",
       "      <th></th>\n",
       "      <th>Rank</th>\n",
       "      <th>Team</th>\n",
       "      <th>Participations</th>\n",
       "      <th>Titles</th>\n",
       "      <th>Pld</th>\n",
       "      <th>W</th>\n",
       "      <th>D</th>\n",
       "      <th>L</th>\n",
       "      <th>GF</th>\n",
       "      <th>GA</th>\n",
       "      <th>GD</th>\n",
       "      <th>Pts</th>\n",
       "    </tr>\n",
       "  </thead>\n",
       "  <tbody>\n",
       "    <tr>\n",
       "      <th>0</th>\n",
       "      <td>1</td>\n",
       "      <td>Brazil</td>\n",
       "      <td>21</td>\n",
       "      <td>5</td>\n",
       "      <td>109</td>\n",
       "      <td>73</td>\n",
       "      <td>18</td>\n",
       "      <td>18</td>\n",
       "      <td>229</td>\n",
       "      <td>105</td>\n",
       "      <td>124</td>\n",
       "      <td>237</td>\n",
       "    </tr>\n",
       "    <tr>\n",
       "      <th>1</th>\n",
       "      <td>2</td>\n",
       "      <td>Germany[123]</td>\n",
       "      <td>19</td>\n",
       "      <td>4</td>\n",
       "      <td>109</td>\n",
       "      <td>67</td>\n",
       "      <td>20</td>\n",
       "      <td>22</td>\n",
       "      <td>226</td>\n",
       "      <td>125</td>\n",
       "      <td>101</td>\n",
       "      <td>221</td>\n",
       "    </tr>\n",
       "    <tr>\n",
       "      <th>2</th>\n",
       "      <td>3</td>\n",
       "      <td>Italy</td>\n",
       "      <td>18</td>\n",
       "      <td>4</td>\n",
       "      <td>83</td>\n",
       "      <td>45</td>\n",
       "      <td>21</td>\n",
       "      <td>17</td>\n",
       "      <td>128</td>\n",
       "      <td>77</td>\n",
       "      <td>51</td>\n",
       "      <td>156</td>\n",
       "    </tr>\n",
       "    <tr>\n",
       "      <th>3</th>\n",
       "      <td>4</td>\n",
       "      <td>Argentina</td>\n",
       "      <td>17</td>\n",
       "      <td>2</td>\n",
       "      <td>81</td>\n",
       "      <td>43</td>\n",
       "      <td>15</td>\n",
       "      <td>23</td>\n",
       "      <td>137</td>\n",
       "      <td>93</td>\n",
       "      <td>44</td>\n",
       "      <td>144</td>\n",
       "    </tr>\n",
       "    <tr>\n",
       "      <th>4</th>\n",
       "      <td>5</td>\n",
       "      <td>France</td>\n",
       "      <td>15</td>\n",
       "      <td>2</td>\n",
       "      <td>66</td>\n",
       "      <td>34</td>\n",
       "      <td>13</td>\n",
       "      <td>19</td>\n",
       "      <td>120</td>\n",
       "      <td>77</td>\n",
       "      <td>43</td>\n",
       "      <td>115</td>\n",
       "    </tr>\n",
       "  </tbody>\n",
       "</table>\n",
       "</div>"
      ],
      "text/plain": [
       "   Rank           Team  Participations  Titles  Pld   W   D   L   GF   GA  \\\n",
       "0     1         Brazil              21       5  109  73  18  18  229  105   \n",
       "1     2   Germany[123]              19       4  109  67  20  22  226  125   \n",
       "2     3          Italy              18       4   83  45  21  17  128   77   \n",
       "3     4      Argentina              17       2   81  43  15  23  137   93   \n",
       "4     5         France              15       2   66  34  13  19  120   77   \n",
       "\n",
       "    GD  Pts  \n",
       "0  124  237  \n",
       "1  101  221  \n",
       "2   51  156  \n",
       "3   44  144  \n",
       "4   43  115  "
      ]
     },
     "execution_count": 121,
     "metadata": {},
     "output_type": "execute_result"
    }
   ],
   "source": [
    "all_champs.head(5)"
   ]
  },
  {
   "cell_type": "code",
   "execution_count": null,
   "id": "6d3236b1",
   "metadata": {},
   "outputs": [],
   "source": []
  }
 ],
 "metadata": {
  "kernelspec": {
   "display_name": "Python 3",
   "language": "python",
   "name": "python3"
  },
  "language_info": {
   "codemirror_mode": {
    "name": "ipython",
    "version": 3
   },
   "file_extension": ".py",
   "mimetype": "text/x-python",
   "name": "python",
   "nbconvert_exporter": "python",
   "pygments_lexer": "ipython3",
   "version": "3.8.2"
  }
 },
 "nbformat": 4,
 "nbformat_minor": 5
}
